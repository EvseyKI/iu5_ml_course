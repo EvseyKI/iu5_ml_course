{
 "cells": [
  {
   "cell_type": "markdown",
   "metadata": {},
   "source": [
    "### Задание:\n",
    "Для произвольного предложения или текста решите следующие задачи:\n",
    "\n",
    "- Токенизация.\n",
    "- Частеречная разметка.\n",
    "- Лемматизация.\n",
    "- Выделение (распознавание) именованных сущностей.\n",
    "- Разбор предложения."
   ]
  },
  {
   "cell_type": "markdown",
   "metadata": {},
   "source": [
    "#### Токенизация"
   ]
  },
  {
   "cell_type": "code",
   "execution_count": 1,
   "metadata": {},
   "outputs": [],
   "source": [
    "text1 = 'В парке на краю города растут старые дубы и ясени. Каждый вечер туда приходит пожилая женщина с белой собакой. Она любит сидеть на скамейке и читать книги, пока собака бегает по лужайке. Однажды вечером к ней подошла девочка с велосипедом и спросила, не видела ли она ее пропавшего котенка.'\n",
    "text2 = 'В офисе всегда царит суета по утрам. Сотрудники спешат к своим рабочим местам, на столах дымятся чашки с горячим кофе, и слышатся звуки печатающих клавиатур. Мария, новая сотрудница, нервно листала страницы своего блокнота, готовясь к первой встрече с клиентами. Ее коллеги подбадривали ее, уверяя, что все пройдет отлично.'\n",
    "text3 = 'В деревне, окруженной зелеными полями и лесами, все знают друг друга. Жители каждое воскресенье собираются на площади у старой церкви, чтобы обсудить новости и поделиться планами. В это воскресенье все обсуждали предстоящий фестиваль урожая. Дети радовались, предвкушая конкурсы и угощения, а взрослые готовились к выставке лучших сельскохозяйственных продуктов.'"
   ]
  },
  {
   "cell_type": "code",
   "execution_count": 3,
   "metadata": {},
   "outputs": [
    {
     "name": "stderr",
     "output_type": "stream",
     "text": [
      "[nltk_data] Downloading package punkt to\n",
      "[nltk_data]     /Users/evseykirichkov/nltk_data...\n",
      "[nltk_data]   Unzipping tokenizers/punkt.zip.\n"
     ]
    },
    {
     "data": {
      "text/plain": [
       "True"
      ]
     },
     "execution_count": 3,
     "metadata": {},
     "output_type": "execute_result"
    }
   ],
   "source": [
    "# NLTK\n",
    "import nltk\n",
    "nltk.download('punkt')"
   ]
  },
  {
   "cell_type": "code",
   "execution_count": 9,
   "metadata": {},
   "outputs": [
    {
     "data": {
      "text/plain": [
       "['BlanklineTokenizer',\n",
       " 'LegalitySyllableTokenizer',\n",
       " 'LineTokenizer',\n",
       " 'MWETokenizer',\n",
       " 'NLTKWordTokenizer',\n",
       " 'PunktSentenceTokenizer',\n",
       " 'RegexpTokenizer',\n",
       " 'ReppTokenizer',\n",
       " 'SExprTokenizer',\n",
       " 'SpaceTokenizer',\n",
       " 'StanfordSegmenter',\n",
       " 'SyllableTokenizer',\n",
       " 'TabTokenizer',\n",
       " 'TextTilingTokenizer',\n",
       " 'ToktokTokenizer',\n",
       " 'TreebankWordDetokenizer',\n",
       " 'TreebankWordTokenizer',\n",
       " 'TweetTokenizer',\n",
       " 'WhitespaceTokenizer',\n",
       " 'WordPunctTokenizer']"
      ]
     },
     "execution_count": 9,
     "metadata": {},
     "output_type": "execute_result"
    }
   ],
   "source": [
    "from nltk import tokenize\n",
    "dir(tokenize)[:20]"
   ]
  },
  {
   "cell_type": "code",
   "execution_count": 10,
   "metadata": {},
   "outputs": [
    {
     "data": {
      "text/plain": [
       "['В',\n",
       " 'парке',\n",
       " 'на',\n",
       " 'краю',\n",
       " 'города',\n",
       " 'растут',\n",
       " 'старые',\n",
       " 'дубы',\n",
       " 'и',\n",
       " 'ясени',\n",
       " '.',\n",
       " 'Каждый',\n",
       " 'вечер',\n",
       " 'туда',\n",
       " 'приходит',\n",
       " 'пожилая',\n",
       " 'женщина',\n",
       " 'с',\n",
       " 'белой',\n",
       " 'собакой',\n",
       " '.',\n",
       " 'Она',\n",
       " 'любит',\n",
       " 'сидеть',\n",
       " 'на',\n",
       " 'скамейке',\n",
       " 'и',\n",
       " 'читать',\n",
       " 'книги',\n",
       " ',',\n",
       " 'пока',\n",
       " 'собака',\n",
       " 'бегает',\n",
       " 'по',\n",
       " 'лужайке',\n",
       " '.',\n",
       " 'Однажды',\n",
       " 'вечером',\n",
       " 'к',\n",
       " 'ней',\n",
       " 'подошла',\n",
       " 'девочка',\n",
       " 'с',\n",
       " 'велосипедом',\n",
       " 'и',\n",
       " 'спросила',\n",
       " ',',\n",
       " 'не',\n",
       " 'видела',\n",
       " 'ли',\n",
       " 'она',\n",
       " 'ее',\n",
       " 'пропавшего',\n",
       " 'котенка',\n",
       " '.']"
      ]
     },
     "execution_count": 10,
     "metadata": {},
     "output_type": "execute_result"
    }
   ],
   "source": [
    "nltk_tk_1 = nltk.WordPunctTokenizer()\n",
    "nltk_tk_1.tokenize(text1)"
   ]
  },
  {
   "cell_type": "code",
   "execution_count": 11,
   "metadata": {},
   "outputs": [
    {
     "name": "stdout",
     "output_type": "stream",
     "text": [
      "4\n"
     ]
    },
    {
     "data": {
      "text/plain": [
       "['В парке на краю города растут старые дубы и ясени.',\n",
       " 'Каждый вечер туда приходит пожилая женщина с белой собакой.',\n",
       " 'Она любит сидеть на скамейке и читать книги, пока собака бегает по лужайке.',\n",
       " 'Однажды вечером к ней подошла девочка с велосипедом и спросила, не видела ли она ее пропавшего котенка.']"
      ]
     },
     "execution_count": 11,
     "metadata": {},
     "output_type": "execute_result"
    }
   ],
   "source": [
    "# Токенизация по предложениям\n",
    "nltk_tk_sents = nltk.tokenize.sent_tokenize(text1)\n",
    "print(len(nltk_tk_sents))\n",
    "nltk_tk_sents"
   ]
  },
  {
   "cell_type": "code",
   "execution_count": 15,
   "metadata": {},
   "outputs": [
    {
     "name": "stdout",
     "output_type": "stream",
     "text": [
      "Requirement already satisfied: spacy in /Users/evseykirichkov/anaconda3/lib/python3.11/site-packages (3.7.4)\n",
      "Requirement already satisfied: spacy-legacy<3.1.0,>=3.0.11 in /Users/evseykirichkov/anaconda3/lib/python3.11/site-packages (from spacy) (3.0.12)\n",
      "Requirement already satisfied: spacy-loggers<2.0.0,>=1.0.0 in /Users/evseykirichkov/anaconda3/lib/python3.11/site-packages (from spacy) (1.0.5)\n",
      "Requirement already satisfied: murmurhash<1.1.0,>=0.28.0 in /Users/evseykirichkov/anaconda3/lib/python3.11/site-packages (from spacy) (1.0.10)\n",
      "Requirement already satisfied: cymem<2.1.0,>=2.0.2 in /Users/evseykirichkov/anaconda3/lib/python3.11/site-packages (from spacy) (2.0.8)\n",
      "Requirement already satisfied: preshed<3.1.0,>=3.0.2 in /Users/evseykirichkov/anaconda3/lib/python3.11/site-packages (from spacy) (3.0.9)\n",
      "Requirement already satisfied: thinc<8.3.0,>=8.2.2 in /Users/evseykirichkov/anaconda3/lib/python3.11/site-packages (from spacy) (8.2.3)\n",
      "Requirement already satisfied: wasabi<1.2.0,>=0.9.1 in /Users/evseykirichkov/anaconda3/lib/python3.11/site-packages (from spacy) (1.1.3)\n",
      "Requirement already satisfied: srsly<3.0.0,>=2.4.3 in /Users/evseykirichkov/anaconda3/lib/python3.11/site-packages (from spacy) (2.4.8)\n",
      "Requirement already satisfied: catalogue<2.1.0,>=2.0.6 in /Users/evseykirichkov/anaconda3/lib/python3.11/site-packages (from spacy) (2.0.10)\n",
      "Requirement already satisfied: weasel<0.4.0,>=0.1.0 in /Users/evseykirichkov/anaconda3/lib/python3.11/site-packages (from spacy) (0.3.4)\n",
      "Requirement already satisfied: typer<0.10.0,>=0.3.0 in /Users/evseykirichkov/anaconda3/lib/python3.11/site-packages (from spacy) (0.9.4)\n",
      "Requirement already satisfied: smart-open<7.0.0,>=5.2.1 in /Users/evseykirichkov/anaconda3/lib/python3.11/site-packages (from spacy) (5.2.1)\n",
      "Requirement already satisfied: tqdm<5.0.0,>=4.38.0 in /Users/evseykirichkov/anaconda3/lib/python3.11/site-packages (from spacy) (4.65.0)\n",
      "Requirement already satisfied: requests<3.0.0,>=2.13.0 in /Users/evseykirichkov/anaconda3/lib/python3.11/site-packages (from spacy) (2.31.0)\n",
      "Requirement already satisfied: pydantic!=1.8,!=1.8.1,<3.0.0,>=1.7.4 in /Users/evseykirichkov/anaconda3/lib/python3.11/site-packages (from spacy) (2.5.3)\n",
      "Requirement already satisfied: jinja2 in /Users/evseykirichkov/anaconda3/lib/python3.11/site-packages (from spacy) (3.1.3)\n",
      "Requirement already satisfied: setuptools in /Users/evseykirichkov/anaconda3/lib/python3.11/site-packages (from spacy) (68.0.0)\n",
      "Requirement already satisfied: packaging>=20.0 in /Users/evseykirichkov/anaconda3/lib/python3.11/site-packages (from spacy) (23.2)\n",
      "Requirement already satisfied: langcodes<4.0.0,>=3.2.0 in /Users/evseykirichkov/anaconda3/lib/python3.11/site-packages (from spacy) (3.4.0)\n",
      "Requirement already satisfied: numpy>=1.19.0 in /Users/evseykirichkov/anaconda3/lib/python3.11/site-packages (from spacy) (1.26.4)\n",
      "Requirement already satisfied: language-data>=1.2 in /Users/evseykirichkov/anaconda3/lib/python3.11/site-packages (from langcodes<4.0.0,>=3.2.0->spacy) (1.2.0)\n",
      "Requirement already satisfied: annotated-types>=0.4.0 in /Users/evseykirichkov/anaconda3/lib/python3.11/site-packages (from pydantic!=1.8,!=1.8.1,<3.0.0,>=1.7.4->spacy) (0.6.0)\n",
      "Requirement already satisfied: pydantic-core==2.14.6 in /Users/evseykirichkov/anaconda3/lib/python3.11/site-packages (from pydantic!=1.8,!=1.8.1,<3.0.0,>=1.7.4->spacy) (2.14.6)\n",
      "Requirement already satisfied: typing-extensions>=4.6.1 in /Users/evseykirichkov/anaconda3/lib/python3.11/site-packages (from pydantic!=1.8,!=1.8.1,<3.0.0,>=1.7.4->spacy) (4.9.0)\n",
      "Requirement already satisfied: charset-normalizer<4,>=2 in /Users/evseykirichkov/anaconda3/lib/python3.11/site-packages (from requests<3.0.0,>=2.13.0->spacy) (2.0.4)\n",
      "Requirement already satisfied: idna<4,>=2.5 in /Users/evseykirichkov/anaconda3/lib/python3.11/site-packages (from requests<3.0.0,>=2.13.0->spacy) (3.4)\n",
      "Requirement already satisfied: urllib3<3,>=1.21.1 in /Users/evseykirichkov/anaconda3/lib/python3.11/site-packages (from requests<3.0.0,>=2.13.0->spacy) (2.0.7)\n",
      "Requirement already satisfied: certifi>=2017.4.17 in /Users/evseykirichkov/anaconda3/lib/python3.11/site-packages (from requests<3.0.0,>=2.13.0->spacy) (2024.2.2)\n",
      "Requirement already satisfied: blis<0.8.0,>=0.7.8 in /Users/evseykirichkov/anaconda3/lib/python3.11/site-packages (from thinc<8.3.0,>=8.2.2->spacy) (0.7.11)\n",
      "Requirement already satisfied: confection<1.0.0,>=0.0.1 in /Users/evseykirichkov/anaconda3/lib/python3.11/site-packages (from thinc<8.3.0,>=8.2.2->spacy) (0.1.5)\n",
      "Requirement already satisfied: click<9.0.0,>=7.1.1 in /Users/evseykirichkov/anaconda3/lib/python3.11/site-packages (from typer<0.10.0,>=0.3.0->spacy) (8.1.7)\n",
      "Requirement already satisfied: cloudpathlib<0.17.0,>=0.7.0 in /Users/evseykirichkov/anaconda3/lib/python3.11/site-packages (from weasel<0.4.0,>=0.1.0->spacy) (0.16.0)\n",
      "Requirement already satisfied: MarkupSafe>=2.0 in /Users/evseykirichkov/anaconda3/lib/python3.11/site-packages (from jinja2->spacy) (2.1.3)\n",
      "Requirement already satisfied: marisa-trie>=0.7.7 in /Users/evseykirichkov/anaconda3/lib/python3.11/site-packages (from language-data>=1.2->langcodes<4.0.0,>=3.2.0->spacy) (1.1.1)\n",
      "Collecting ru-core-news-sm==3.7.0\n",
      "  Downloading https://github.com/explosion/spacy-models/releases/download/ru_core_news_sm-3.7.0/ru_core_news_sm-3.7.0-py3-none-any.whl (15.3 MB)\n",
      "\u001b[2K     \u001b[90m━━━━━━━━━━━━━━━━━━━━━━━━━━━━━━━━━━━━━━━━\u001b[0m \u001b[32m15.3/15.3 MB\u001b[0m \u001b[31m11.1 MB/s\u001b[0m eta \u001b[36m0:00:00\u001b[0m00:01\u001b[0m00:01\u001b[0m\n",
      "\u001b[?25hRequirement already satisfied: spacy<3.8.0,>=3.7.0 in /Users/evseykirichkov/anaconda3/lib/python3.11/site-packages (from ru-core-news-sm==3.7.0) (3.7.4)\n",
      "Collecting pymorphy3>=1.0.0 (from ru-core-news-sm==3.7.0)\n",
      "  Obtaining dependency information for pymorphy3>=1.0.0 from https://files.pythonhosted.org/packages/ee/53/862f7b7f3e488e5420bebd5cf59362cb175463ad3cfddd61ade15a738dc7/pymorphy3-2.0.1-py3-none-any.whl.metadata\n",
      "  Downloading pymorphy3-2.0.1-py3-none-any.whl.metadata (1.8 kB)\n",
      "Collecting dawg-python>=0.7.1 (from pymorphy3>=1.0.0->ru-core-news-sm==3.7.0)\n",
      "  Obtaining dependency information for dawg-python>=0.7.1 from https://files.pythonhosted.org/packages/6a/84/ff1ce2071d4c650ec85745766c0047ccc3b5036f1d03559fd46bb38b5eeb/DAWG_Python-0.7.2-py2.py3-none-any.whl.metadata\n",
      "  Downloading DAWG_Python-0.7.2-py2.py3-none-any.whl.metadata (7.0 kB)\n",
      "Collecting pymorphy3-dicts-ru (from pymorphy3>=1.0.0->ru-core-news-sm==3.7.0)\n",
      "  Obtaining dependency information for pymorphy3-dicts-ru from https://files.pythonhosted.org/packages/b0/67/469e9e52d046863f5959928794d3067d455a77f580bf4a662630a43eb426/pymorphy3_dicts_ru-2.4.417150.4580142-py2.py3-none-any.whl.metadata\n",
      "  Downloading pymorphy3_dicts_ru-2.4.417150.4580142-py2.py3-none-any.whl.metadata (2.0 kB)\n",
      "Requirement already satisfied: spacy-legacy<3.1.0,>=3.0.11 in /Users/evseykirichkov/anaconda3/lib/python3.11/site-packages (from spacy<3.8.0,>=3.7.0->ru-core-news-sm==3.7.0) (3.0.12)\n",
      "Requirement already satisfied: spacy-loggers<2.0.0,>=1.0.0 in /Users/evseykirichkov/anaconda3/lib/python3.11/site-packages (from spacy<3.8.0,>=3.7.0->ru-core-news-sm==3.7.0) (1.0.5)\n",
      "Requirement already satisfied: murmurhash<1.1.0,>=0.28.0 in /Users/evseykirichkov/anaconda3/lib/python3.11/site-packages (from spacy<3.8.0,>=3.7.0->ru-core-news-sm==3.7.0) (1.0.10)\n",
      "Requirement already satisfied: cymem<2.1.0,>=2.0.2 in /Users/evseykirichkov/anaconda3/lib/python3.11/site-packages (from spacy<3.8.0,>=3.7.0->ru-core-news-sm==3.7.0) (2.0.8)\n",
      "Requirement already satisfied: preshed<3.1.0,>=3.0.2 in /Users/evseykirichkov/anaconda3/lib/python3.11/site-packages (from spacy<3.8.0,>=3.7.0->ru-core-news-sm==3.7.0) (3.0.9)\n",
      "Requirement already satisfied: thinc<8.3.0,>=8.2.2 in /Users/evseykirichkov/anaconda3/lib/python3.11/site-packages (from spacy<3.8.0,>=3.7.0->ru-core-news-sm==3.7.0) (8.2.3)\n",
      "Requirement already satisfied: wasabi<1.2.0,>=0.9.1 in /Users/evseykirichkov/anaconda3/lib/python3.11/site-packages (from spacy<3.8.0,>=3.7.0->ru-core-news-sm==3.7.0) (1.1.3)\n",
      "Requirement already satisfied: srsly<3.0.0,>=2.4.3 in /Users/evseykirichkov/anaconda3/lib/python3.11/site-packages (from spacy<3.8.0,>=3.7.0->ru-core-news-sm==3.7.0) (2.4.8)\n",
      "Requirement already satisfied: catalogue<2.1.0,>=2.0.6 in /Users/evseykirichkov/anaconda3/lib/python3.11/site-packages (from spacy<3.8.0,>=3.7.0->ru-core-news-sm==3.7.0) (2.0.10)\n",
      "Requirement already satisfied: weasel<0.4.0,>=0.1.0 in /Users/evseykirichkov/anaconda3/lib/python3.11/site-packages (from spacy<3.8.0,>=3.7.0->ru-core-news-sm==3.7.0) (0.3.4)\n",
      "Requirement already satisfied: typer<0.10.0,>=0.3.0 in /Users/evseykirichkov/anaconda3/lib/python3.11/site-packages (from spacy<3.8.0,>=3.7.0->ru-core-news-sm==3.7.0) (0.9.4)\n",
      "Requirement already satisfied: smart-open<7.0.0,>=5.2.1 in /Users/evseykirichkov/anaconda3/lib/python3.11/site-packages (from spacy<3.8.0,>=3.7.0->ru-core-news-sm==3.7.0) (5.2.1)\n",
      "Requirement already satisfied: tqdm<5.0.0,>=4.38.0 in /Users/evseykirichkov/anaconda3/lib/python3.11/site-packages (from spacy<3.8.0,>=3.7.0->ru-core-news-sm==3.7.0) (4.65.0)\n",
      "Requirement already satisfied: requests<3.0.0,>=2.13.0 in /Users/evseykirichkov/anaconda3/lib/python3.11/site-packages (from spacy<3.8.0,>=3.7.0->ru-core-news-sm==3.7.0) (2.31.0)\n",
      "Requirement already satisfied: pydantic!=1.8,!=1.8.1,<3.0.0,>=1.7.4 in /Users/evseykirichkov/anaconda3/lib/python3.11/site-packages (from spacy<3.8.0,>=3.7.0->ru-core-news-sm==3.7.0) (2.5.3)\n",
      "Requirement already satisfied: jinja2 in /Users/evseykirichkov/anaconda3/lib/python3.11/site-packages (from spacy<3.8.0,>=3.7.0->ru-core-news-sm==3.7.0) (3.1.3)\n",
      "Requirement already satisfied: setuptools in /Users/evseykirichkov/anaconda3/lib/python3.11/site-packages (from spacy<3.8.0,>=3.7.0->ru-core-news-sm==3.7.0) (68.0.0)\n",
      "Requirement already satisfied: packaging>=20.0 in /Users/evseykirichkov/anaconda3/lib/python3.11/site-packages (from spacy<3.8.0,>=3.7.0->ru-core-news-sm==3.7.0) (23.2)\n",
      "Requirement already satisfied: langcodes<4.0.0,>=3.2.0 in /Users/evseykirichkov/anaconda3/lib/python3.11/site-packages (from spacy<3.8.0,>=3.7.0->ru-core-news-sm==3.7.0) (3.4.0)\n",
      "Requirement already satisfied: numpy>=1.19.0 in /Users/evseykirichkov/anaconda3/lib/python3.11/site-packages (from spacy<3.8.0,>=3.7.0->ru-core-news-sm==3.7.0) (1.26.4)\n",
      "Requirement already satisfied: language-data>=1.2 in /Users/evseykirichkov/anaconda3/lib/python3.11/site-packages (from langcodes<4.0.0,>=3.2.0->spacy<3.8.0,>=3.7.0->ru-core-news-sm==3.7.0) (1.2.0)\n",
      "Requirement already satisfied: annotated-types>=0.4.0 in /Users/evseykirichkov/anaconda3/lib/python3.11/site-packages (from pydantic!=1.8,!=1.8.1,<3.0.0,>=1.7.4->spacy<3.8.0,>=3.7.0->ru-core-news-sm==3.7.0) (0.6.0)\n",
      "Requirement already satisfied: pydantic-core==2.14.6 in /Users/evseykirichkov/anaconda3/lib/python3.11/site-packages (from pydantic!=1.8,!=1.8.1,<3.0.0,>=1.7.4->spacy<3.8.0,>=3.7.0->ru-core-news-sm==3.7.0) (2.14.6)\n",
      "Requirement already satisfied: typing-extensions>=4.6.1 in /Users/evseykirichkov/anaconda3/lib/python3.11/site-packages (from pydantic!=1.8,!=1.8.1,<3.0.0,>=1.7.4->spacy<3.8.0,>=3.7.0->ru-core-news-sm==3.7.0) (4.9.0)\n",
      "Requirement already satisfied: charset-normalizer<4,>=2 in /Users/evseykirichkov/anaconda3/lib/python3.11/site-packages (from requests<3.0.0,>=2.13.0->spacy<3.8.0,>=3.7.0->ru-core-news-sm==3.7.0) (2.0.4)\n",
      "Requirement already satisfied: idna<4,>=2.5 in /Users/evseykirichkov/anaconda3/lib/python3.11/site-packages (from requests<3.0.0,>=2.13.0->spacy<3.8.0,>=3.7.0->ru-core-news-sm==3.7.0) (3.4)\n",
      "Requirement already satisfied: urllib3<3,>=1.21.1 in /Users/evseykirichkov/anaconda3/lib/python3.11/site-packages (from requests<3.0.0,>=2.13.0->spacy<3.8.0,>=3.7.0->ru-core-news-sm==3.7.0) (2.0.7)\n",
      "Requirement already satisfied: certifi>=2017.4.17 in /Users/evseykirichkov/anaconda3/lib/python3.11/site-packages (from requests<3.0.0,>=2.13.0->spacy<3.8.0,>=3.7.0->ru-core-news-sm==3.7.0) (2024.2.2)\n",
      "Requirement already satisfied: blis<0.8.0,>=0.7.8 in /Users/evseykirichkov/anaconda3/lib/python3.11/site-packages (from thinc<8.3.0,>=8.2.2->spacy<3.8.0,>=3.7.0->ru-core-news-sm==3.7.0) (0.7.11)\n",
      "Requirement already satisfied: confection<1.0.0,>=0.0.1 in /Users/evseykirichkov/anaconda3/lib/python3.11/site-packages (from thinc<8.3.0,>=8.2.2->spacy<3.8.0,>=3.7.0->ru-core-news-sm==3.7.0) (0.1.5)\n",
      "Requirement already satisfied: click<9.0.0,>=7.1.1 in /Users/evseykirichkov/anaconda3/lib/python3.11/site-packages (from typer<0.10.0,>=0.3.0->spacy<3.8.0,>=3.7.0->ru-core-news-sm==3.7.0) (8.1.7)\n",
      "Requirement already satisfied: cloudpathlib<0.17.0,>=0.7.0 in /Users/evseykirichkov/anaconda3/lib/python3.11/site-packages (from weasel<0.4.0,>=0.1.0->spacy<3.8.0,>=3.7.0->ru-core-news-sm==3.7.0) (0.16.0)\n",
      "Requirement already satisfied: MarkupSafe>=2.0 in /Users/evseykirichkov/anaconda3/lib/python3.11/site-packages (from jinja2->spacy<3.8.0,>=3.7.0->ru-core-news-sm==3.7.0) (2.1.3)\n",
      "Requirement already satisfied: marisa-trie>=0.7.7 in /Users/evseykirichkov/anaconda3/lib/python3.11/site-packages (from language-data>=1.2->langcodes<4.0.0,>=3.2.0->spacy<3.8.0,>=3.7.0->ru-core-news-sm==3.7.0) (1.1.1)\n",
      "Downloading pymorphy3-2.0.1-py3-none-any.whl (53 kB)\n",
      "\u001b[2K   \u001b[90m━━━━━━━━━━━━━━━━━━━━━━━━━━━━━━━━━━━━━━━━\u001b[0m \u001b[32m53.2/53.2 kB\u001b[0m \u001b[31m990.3 kB/s\u001b[0m eta \u001b[36m0:00:00\u001b[0m\u001b[36m0:00:01\u001b[0m\n",
      "\u001b[?25hDownloading DAWG_Python-0.7.2-py2.py3-none-any.whl (11 kB)\n",
      "Downloading pymorphy3_dicts_ru-2.4.417150.4580142-py2.py3-none-any.whl (8.4 MB)\n",
      "\u001b[2K   \u001b[90m━━━━━━━━━━━━━━━━━━━━━━━━━━━━━━━━━━━━━━━━\u001b[0m \u001b[32m8.4/8.4 MB\u001b[0m \u001b[31m8.4 MB/s\u001b[0m eta \u001b[36m0:00:00\u001b[0m00:01\u001b[0m00:01\u001b[0m\n",
      "\u001b[?25hInstalling collected packages: pymorphy3-dicts-ru, dawg-python, pymorphy3, ru-core-news-sm\n",
      "Successfully installed dawg-python-0.7.2 pymorphy3-2.0.1 pymorphy3-dicts-ru-2.4.417150.4580142 ru-core-news-sm-3.7.0\n",
      "\u001b[38;5;2m✔ Download and installation successful\u001b[0m\n",
      "You can now load the package via spacy.load('ru_core_news_sm')\n"
     ]
    }
   ],
   "source": [
    "# Spacy\n",
    "# Установка библиотеки spacy\n",
    "! pip install spacy\n",
    "# Установка русской модели\n",
    "! python -m spacy download ru_core_news_sm"
   ]
  },
  {
   "cell_type": "code",
   "execution_count": 16,
   "metadata": {},
   "outputs": [
    {
     "data": {
      "text/plain": [
       "В парке на краю города растут старые дубы и ясени. Каждый вечер туда приходит пожилая женщина с белой собакой. Она любит сидеть на скамейке и читать книги, пока собака бегает по лужайке. Однажды вечером к ней подошла девочка с велосипедом и спросила, не видела ли она ее пропавшего котенка."
      ]
     },
     "execution_count": 16,
     "metadata": {},
     "output_type": "execute_result"
    }
   ],
   "source": [
    "from spacy.lang.ru import Russian\n",
    "import spacy\n",
    "nlp = spacy.load('ru_core_news_sm')\n",
    "spacy_text1 = nlp(text1)\n",
    "spacy_text1"
   ]
  },
  {
   "cell_type": "code",
   "execution_count": 17,
   "metadata": {},
   "outputs": [
    {
     "name": "stdout",
     "output_type": "stream",
     "text": [
      "В\n",
      "парке\n",
      "на\n",
      "краю\n",
      "города\n",
      "растут\n",
      "старые\n",
      "дубы\n",
      "и\n",
      "ясени\n",
      ".\n",
      "Каждый\n",
      "вечер\n",
      "туда\n",
      "приходит\n",
      "пожилая\n",
      "женщина\n",
      "с\n",
      "белой\n",
      "собакой\n",
      ".\n",
      "Она\n",
      "любит\n",
      "сидеть\n",
      "на\n",
      "скамейке\n",
      "и\n",
      "читать\n",
      "книги\n",
      ",\n",
      "пока\n",
      "собака\n",
      "бегает\n",
      "по\n",
      "лужайке\n",
      ".\n",
      "Однажды\n",
      "вечером\n",
      "к\n",
      "ней\n",
      "подошла\n",
      "девочка\n",
      "с\n",
      "велосипедом\n",
      "и\n",
      "спросила\n",
      ",\n",
      "не\n",
      "видела\n",
      "ли\n",
      "она\n",
      "ее\n",
      "пропавшего\n",
      "котенка\n",
      ".\n"
     ]
    }
   ],
   "source": [
    "for t in spacy_text1:\n",
    "    print(t)"
   ]
  },
  {
   "cell_type": "code",
   "execution_count": 18,
   "metadata": {},
   "outputs": [
    {
     "data": {
      "text/plain": [
       "В офисе всегда царит суета по утрам. Сотрудники спешат к своим рабочим местам, на столах дымятся чашки с горячим кофе, и слышатся звуки печатающих клавиатур. Мария, новая сотрудница, нервно листала страницы своего блокнота, готовясь к первой встрече с клиентами. Ее коллеги подбадривали ее, уверяя, что все пройдет отлично."
      ]
     },
     "execution_count": 18,
     "metadata": {},
     "output_type": "execute_result"
    }
   ],
   "source": [
    "spacy_text2 = nlp(text2)\n",
    "spacy_text2"
   ]
  },
  {
   "cell_type": "code",
   "execution_count": 19,
   "metadata": {},
   "outputs": [
    {
     "data": {
      "text/plain": [
       "В деревне, окруженной зелеными полями и лесами, все знают друг друга. Жители каждое воскресенье собираются на площади у старой церкви, чтобы обсудить новости и поделиться планами. В это воскресенье все обсуждали предстоящий фестиваль урожая. Дети радовались, предвкушая конкурсы и угощения, а взрослые готовились к выставке лучших сельскохозяйственных продуктов."
      ]
     },
     "execution_count": 19,
     "metadata": {},
     "output_type": "execute_result"
    }
   ],
   "source": [
    "spacy_text3 = nlp(text3)\n",
    "spacy_text3"
   ]
  },
  {
   "cell_type": "code",
   "execution_count": 22,
   "metadata": {},
   "outputs": [
    {
     "name": "stdout",
     "output_type": "stream",
     "text": [
      "Collecting razdel\n",
      "  Obtaining dependency information for razdel from https://files.pythonhosted.org/packages/15/2c/664223a3924aa6e70479f7d37220b3a658765b9cfe760b4af7ffdc50d38f/razdel-0.5.0-py3-none-any.whl.metadata\n",
      "  Downloading razdel-0.5.0-py3-none-any.whl.metadata (10.0 kB)\n",
      "Downloading razdel-0.5.0-py3-none-any.whl (21 kB)\n",
      "Installing collected packages: razdel\n",
      "Successfully installed razdel-0.5.0\n"
     ]
    }
   ],
   "source": [
    "# Natasha\n",
    "! pip install razdel"
   ]
  },
  {
   "cell_type": "code",
   "execution_count": 23,
   "metadata": {},
   "outputs": [],
   "source": [
    "from razdel import tokenize, sentenize"
   ]
  },
  {
   "cell_type": "code",
   "execution_count": 24,
   "metadata": {},
   "outputs": [
    {
     "data": {
      "text/plain": [
       "[Substring(0, 1, 'В'),\n",
       " Substring(2, 7, 'парке'),\n",
       " Substring(8, 10, 'на'),\n",
       " Substring(11, 15, 'краю'),\n",
       " Substring(16, 22, 'города'),\n",
       " Substring(23, 29, 'растут'),\n",
       " Substring(30, 36, 'старые'),\n",
       " Substring(37, 41, 'дубы'),\n",
       " Substring(42, 43, 'и'),\n",
       " Substring(44, 49, 'ясени'),\n",
       " Substring(49, 50, '.'),\n",
       " Substring(51, 57, 'Каждый'),\n",
       " Substring(58, 63, 'вечер'),\n",
       " Substring(64, 68, 'туда'),\n",
       " Substring(69, 77, 'приходит'),\n",
       " Substring(78, 85, 'пожилая'),\n",
       " Substring(86, 93, 'женщина'),\n",
       " Substring(94, 95, 'с'),\n",
       " Substring(96, 101, 'белой'),\n",
       " Substring(102, 109, 'собакой'),\n",
       " Substring(109, 110, '.'),\n",
       " Substring(111, 114, 'Она'),\n",
       " Substring(115, 120, 'любит'),\n",
       " Substring(121, 127, 'сидеть'),\n",
       " Substring(128, 130, 'на'),\n",
       " Substring(131, 139, 'скамейке'),\n",
       " Substring(140, 141, 'и'),\n",
       " Substring(142, 148, 'читать'),\n",
       " Substring(149, 154, 'книги'),\n",
       " Substring(154, 155, ','),\n",
       " Substring(156, 160, 'пока'),\n",
       " Substring(161, 167, 'собака'),\n",
       " Substring(168, 174, 'бегает'),\n",
       " Substring(175, 177, 'по'),\n",
       " Substring(178, 185, 'лужайке'),\n",
       " Substring(185, 186, '.'),\n",
       " Substring(187, 194, 'Однажды'),\n",
       " Substring(195, 202, 'вечером'),\n",
       " Substring(203, 204, 'к'),\n",
       " Substring(205, 208, 'ней'),\n",
       " Substring(209, 216, 'подошла'),\n",
       " Substring(217, 224, 'девочка'),\n",
       " Substring(225, 226, 'с'),\n",
       " Substring(227, 238, 'велосипедом'),\n",
       " Substring(239, 240, 'и'),\n",
       " Substring(241, 249, 'спросила'),\n",
       " Substring(249, 250, ','),\n",
       " Substring(251, 253, 'не'),\n",
       " Substring(254, 260, 'видела'),\n",
       " Substring(261, 263, 'ли'),\n",
       " Substring(264, 267, 'она'),\n",
       " Substring(268, 270, 'ее'),\n",
       " Substring(271, 281, 'пропавшего'),\n",
       " Substring(282, 289, 'котенка'),\n",
       " Substring(289, 290, '.')]"
      ]
     },
     "execution_count": 24,
     "metadata": {},
     "output_type": "execute_result"
    }
   ],
   "source": [
    "n_tok_text1 = list(tokenize(text1))\n",
    "n_tok_text1"
   ]
  },
  {
   "cell_type": "code",
   "execution_count": 25,
   "metadata": {},
   "outputs": [
    {
     "data": {
      "text/plain": [
       "['В',\n",
       " 'парке',\n",
       " 'на',\n",
       " 'краю',\n",
       " 'города',\n",
       " 'растут',\n",
       " 'старые',\n",
       " 'дубы',\n",
       " 'и',\n",
       " 'ясени',\n",
       " '.',\n",
       " 'Каждый',\n",
       " 'вечер',\n",
       " 'туда',\n",
       " 'приходит',\n",
       " 'пожилая',\n",
       " 'женщина',\n",
       " 'с',\n",
       " 'белой',\n",
       " 'собакой',\n",
       " '.',\n",
       " 'Она',\n",
       " 'любит',\n",
       " 'сидеть',\n",
       " 'на',\n",
       " 'скамейке',\n",
       " 'и',\n",
       " 'читать',\n",
       " 'книги',\n",
       " ',',\n",
       " 'пока',\n",
       " 'собака',\n",
       " 'бегает',\n",
       " 'по',\n",
       " 'лужайке',\n",
       " '.',\n",
       " 'Однажды',\n",
       " 'вечером',\n",
       " 'к',\n",
       " 'ней',\n",
       " 'подошла',\n",
       " 'девочка',\n",
       " 'с',\n",
       " 'велосипедом',\n",
       " 'и',\n",
       " 'спросила',\n",
       " ',',\n",
       " 'не',\n",
       " 'видела',\n",
       " 'ли',\n",
       " 'она',\n",
       " 'ее',\n",
       " 'пропавшего',\n",
       " 'котенка',\n",
       " '.']"
      ]
     },
     "execution_count": 25,
     "metadata": {},
     "output_type": "execute_result"
    }
   ],
   "source": [
    "[_.text for _ in n_tok_text1]"
   ]
  },
  {
   "cell_type": "code",
   "execution_count": 26,
   "metadata": {},
   "outputs": [
    {
     "data": {
      "text/plain": [
       "[Substring(0, 50, 'В парке на краю города растут старые дубы и ясени.'),\n",
       " Substring(51,\n",
       "           110,\n",
       "           'Каждый вечер туда приходит пожилая женщина с белой собакой.'),\n",
       " Substring(111,\n",
       "           186,\n",
       "           'Она любит сидеть на скамейке и читать книги, пока собака бегает по лужайке.'),\n",
       " Substring(187,\n",
       "           290,\n",
       "           'Однажды вечером к ней подошла девочка с велосипедом и спросила, не видела ли она ее пропавшего котенка.')]"
      ]
     },
     "execution_count": 26,
     "metadata": {},
     "output_type": "execute_result"
    }
   ],
   "source": [
    "n_sen_text1 = list(sentenize(text1))\n",
    "n_sen_text1"
   ]
  },
  {
   "cell_type": "code",
   "execution_count": 27,
   "metadata": {},
   "outputs": [
    {
     "data": {
      "text/plain": [
       "(['В парке на краю города растут старые дубы и ясени.',\n",
       "  'Каждый вечер туда приходит пожилая женщина с белой собакой.',\n",
       "  'Она любит сидеть на скамейке и читать книги, пока собака бегает по лужайке.',\n",
       "  'Однажды вечером к ней подошла девочка с велосипедом и спросила, не видела ли она ее пропавшего котенка.'],\n",
       " 4)"
      ]
     },
     "execution_count": 27,
     "metadata": {},
     "output_type": "execute_result"
    }
   ],
   "source": [
    "[_.text for _ in n_sen_text1], len([_.text for _ in n_sen_text1])"
   ]
  },
  {
   "cell_type": "code",
   "execution_count": 28,
   "metadata": {},
   "outputs": [],
   "source": [
    "# Этот вариант токенизации нужен для последующей обработки\n",
    "def n_sentenize(text):\n",
    "    n_sen_chunk = []\n",
    "    for sent in sentenize(text):\n",
    "        tokens = [_.text for _ in tokenize(sent.text)]\n",
    "        n_sen_chunk.append(tokens)\n",
    "    return n_sen_chunk"
   ]
  },
  {
   "cell_type": "code",
   "execution_count": 29,
   "metadata": {},
   "outputs": [
    {
     "data": {
      "text/plain": [
       "[['В',\n",
       "  'парке',\n",
       "  'на',\n",
       "  'краю',\n",
       "  'города',\n",
       "  'растут',\n",
       "  'старые',\n",
       "  'дубы',\n",
       "  'и',\n",
       "  'ясени',\n",
       "  '.'],\n",
       " ['Каждый',\n",
       "  'вечер',\n",
       "  'туда',\n",
       "  'приходит',\n",
       "  'пожилая',\n",
       "  'женщина',\n",
       "  'с',\n",
       "  'белой',\n",
       "  'собакой',\n",
       "  '.'],\n",
       " ['Она',\n",
       "  'любит',\n",
       "  'сидеть',\n",
       "  'на',\n",
       "  'скамейке',\n",
       "  'и',\n",
       "  'читать',\n",
       "  'книги',\n",
       "  ',',\n",
       "  'пока',\n",
       "  'собака',\n",
       "  'бегает',\n",
       "  'по',\n",
       "  'лужайке',\n",
       "  '.'],\n",
       " ['Однажды',\n",
       "  'вечером',\n",
       "  'к',\n",
       "  'ней',\n",
       "  'подошла',\n",
       "  'девочка',\n",
       "  'с',\n",
       "  'велосипедом',\n",
       "  'и',\n",
       "  'спросила',\n",
       "  ',',\n",
       "  'не',\n",
       "  'видела',\n",
       "  'ли',\n",
       "  'она',\n",
       "  'ее',\n",
       "  'пропавшего',\n",
       "  'котенка',\n",
       "  '.']]"
      ]
     },
     "execution_count": 29,
     "metadata": {},
     "output_type": "execute_result"
    }
   ],
   "source": [
    "n_sen_chunk_1 = n_sentenize(text1)\n",
    "n_sen_chunk_1"
   ]
  },
  {
   "cell_type": "markdown",
   "metadata": {},
   "source": [
    "#### Частеречная разметка"
   ]
  },
  {
   "cell_type": "code",
   "execution_count": 33,
   "metadata": {},
   "outputs": [
    {
     "name": "stdout",
     "output_type": "stream",
     "text": [
      "В - ADP - case\n",
      "парке - NOUN - obl\n",
      "на - ADP - case\n",
      "краю - NOUN - nmod\n",
      "города - NOUN - nmod\n",
      "растут - VERB - ROOT\n",
      "старые - ADJ - amod\n",
      "дубы - NOUN - nsubj\n",
      "и - CCONJ - cc\n",
      "ясени - NOUN - conj\n",
      ". - PUNCT - punct\n",
      "Каждый - DET - det\n",
      "вечер - NOUN - obl\n",
      "туда - ADV - advmod\n",
      "приходит - VERB - ROOT\n",
      "пожилая - ADJ - amod\n",
      "женщина - NOUN - nsubj\n",
      "с - ADP - case\n",
      "белой - ADJ - amod\n",
      "собакой - NOUN - nmod\n",
      ". - PUNCT - punct\n",
      "Она - PRON - nsubj\n",
      "любит - VERB - ROOT\n",
      "сидеть - VERB - xcomp\n",
      "на - ADP - case\n",
      "скамейке - NOUN - obl\n",
      "и - CCONJ - cc\n",
      "читать - VERB - conj\n",
      "книги - NOUN - obj\n",
      ", - PUNCT - punct\n",
      "пока - SCONJ - mark\n",
      "собака - NOUN - nsubj\n",
      "бегает - VERB - advcl\n",
      "по - ADP - case\n",
      "лужайке - NOUN - obl\n",
      ". - PUNCT - punct\n",
      "Однажды - ADV - advmod\n",
      "вечером - NOUN - obl\n",
      "к - ADP - case\n",
      "ней - PRON - obl\n",
      "подошла - VERB - ROOT\n",
      "девочка - NOUN - nsubj\n",
      "с - ADP - case\n",
      "велосипедом - NOUN - nmod\n",
      "и - CCONJ - cc\n",
      "спросила - VERB - conj\n",
      ", - PUNCT - punct\n",
      "не - PART - advmod\n",
      "видела - VERB - ccomp\n",
      "ли - PART - advmod\n",
      "она - PRON - nsubj\n",
      "ее - DET - det\n",
      "пропавшего - VERB - amod\n",
      "котенка - NOUN - obj\n",
      ". - PUNCT - punct\n"
     ]
    }
   ],
   "source": [
    "# Spacy\n",
    "for token in spacy_text1:\n",
    "    print('{} - {} - {}'.format(token.text, token.pos_, token.dep_))"
   ]
  },
  {
   "cell_type": "code",
   "execution_count": 37,
   "metadata": {},
   "outputs": [
    {
     "name": "stdout",
     "output_type": "stream",
     "text": [
      "Requirement already satisfied: navec in /Users/evseykirichkov/anaconda3/lib/python3.11/site-packages (0.10.0)\n",
      "Requirement already satisfied: numpy in /Users/evseykirichkov/anaconda3/lib/python3.11/site-packages (from navec) (1.26.4)\n",
      "Collecting slovnet\n",
      "  Obtaining dependency information for slovnet from https://files.pythonhosted.org/packages/7c/32/d5aff64e3d51ec4021674215680f16b7d2907860c6443b0d058579ac7d59/slovnet-0.6.0-py3-none-any.whl.metadata\n",
      "  Downloading slovnet-0.6.0-py3-none-any.whl.metadata (34 kB)\n",
      "Requirement already satisfied: numpy in /Users/evseykirichkov/anaconda3/lib/python3.11/site-packages (from slovnet) (1.26.4)\n",
      "Requirement already satisfied: razdel in /Users/evseykirichkov/anaconda3/lib/python3.11/site-packages (from slovnet) (0.5.0)\n",
      "Requirement already satisfied: navec in /Users/evseykirichkov/anaconda3/lib/python3.11/site-packages (from slovnet) (0.10.0)\n",
      "Downloading slovnet-0.6.0-py3-none-any.whl (46 kB)\n",
      "\u001b[2K   \u001b[90m━━━━━━━━━━━━━━━━━━━━━━━━━━━━━━━━━━━━━━━━\u001b[0m \u001b[32m46.7/46.7 kB\u001b[0m \u001b[31m1.4 MB/s\u001b[0m eta \u001b[36m0:00:00\u001b[0m\n",
      "\u001b[?25hInstalling collected packages: slovnet\n",
      "Successfully installed slovnet-0.6.0\n"
     ]
    }
   ],
   "source": [
    "# Natasha\n",
    "! pip install navec\n",
    "! pip install slovnet"
   ]
  },
  {
   "cell_type": "code",
   "execution_count": 38,
   "metadata": {},
   "outputs": [],
   "source": [
    "from navec import Navec\n",
    "from slovnet import Morph"
   ]
  },
  {
   "cell_type": "code",
   "execution_count": 39,
   "metadata": {},
   "outputs": [],
   "source": [
    "# Файл необходимо скачать по ссылке https://github.com/natasha/navec#downloads\n",
    "navec = Navec.load('data/navec_news_v1_1B_250K_300d_100q.tar')"
   ]
  },
  {
   "cell_type": "code",
   "execution_count": 40,
   "metadata": {},
   "outputs": [],
   "source": [
    "# Файл необходимо скачать по ссылке https://github.com/natasha/slovnet#downloads\n",
    "n_morph = Morph.load('data/slovnet_morph_news_v1.tar', batch_size=4)"
   ]
  },
  {
   "cell_type": "code",
   "execution_count": 41,
   "metadata": {},
   "outputs": [],
   "source": [
    "morph_res = n_morph.navec(navec)"
   ]
  },
  {
   "cell_type": "code",
   "execution_count": 42,
   "metadata": {},
   "outputs": [],
   "source": [
    "def print_pos(markup):\n",
    "    for token in markup.tokens:\n",
    "        print('{} - {}'.format(token.text, token.tag))"
   ]
  },
  {
   "cell_type": "code",
   "execution_count": 43,
   "metadata": {},
   "outputs": [
    {
     "name": "stdout",
     "output_type": "stream",
     "text": [
      "В - ADP\n",
      "парке - NOUN|Animacy=Inan|Case=Loc|Gender=Masc|Number=Sing\n",
      "на - ADP\n",
      "краю - NOUN|Animacy=Inan|Case=Loc|Gender=Masc|Number=Sing\n",
      "города - NOUN|Animacy=Inan|Case=Gen|Gender=Masc|Number=Sing\n",
      "растут - VERB|Aspect=Imp|Mood=Ind|Number=Plur|Person=3|Tense=Pres|VerbForm=Fin|Voice=Act\n",
      "старые - ADJ|Case=Nom|Degree=Pos|Number=Plur\n",
      "дубы - NOUN|Animacy=Inan|Case=Nom|Gender=Masc|Number=Plur\n",
      "и - CCONJ\n",
      "ясени - NOUN|Animacy=Inan|Case=Nom|Gender=Masc|Number=Plur\n",
      ". - PUNCT\n",
      "Каждый - DET|Case=Acc|Gender=Masc|Number=Sing\n",
      "вечер - NOUN|Animacy=Inan|Case=Acc|Gender=Masc|Number=Sing\n",
      "туда - ADV|Degree=Pos\n",
      "приходит - VERB|Aspect=Imp|Mood=Ind|Number=Sing|Person=3|Tense=Pres|VerbForm=Fin|Voice=Act\n",
      "пожилая - ADJ|Case=Nom|Degree=Pos|Gender=Fem|Number=Sing\n",
      "женщина - NOUN|Animacy=Anim|Case=Nom|Gender=Fem|Number=Sing\n",
      "с - ADP\n",
      "белой - ADJ|Case=Ins|Degree=Pos|Gender=Fem|Number=Sing\n",
      "собакой - NOUN|Animacy=Anim|Case=Ins|Gender=Fem|Number=Sing\n",
      ". - PUNCT\n",
      "Она - PRON|Case=Nom|Gender=Fem|Number=Sing|Person=3\n",
      "любит - VERB|Aspect=Imp|Mood=Ind|Number=Sing|Person=3|Tense=Pres|VerbForm=Fin|Voice=Act\n",
      "сидеть - VERB|Aspect=Imp|VerbForm=Inf|Voice=Act\n",
      "на - ADP\n",
      "скамейке - NOUN|Animacy=Inan|Case=Loc|Gender=Fem|Number=Sing\n",
      "и - CCONJ\n",
      "читать - VERB|Aspect=Imp|VerbForm=Inf|Voice=Act\n",
      "книги - NOUN|Animacy=Inan|Case=Acc|Gender=Fem|Number=Plur\n",
      ", - PUNCT\n",
      "пока - SCONJ\n",
      "собака - NOUN|Animacy=Anim|Case=Nom|Gender=Fem|Number=Sing\n",
      "бегает - VERB|Aspect=Imp|Mood=Ind|Number=Sing|Person=3|Tense=Pres|VerbForm=Fin|Voice=Act\n",
      "по - ADP\n",
      "лужайке - NOUN|Animacy=Inan|Case=Dat|Gender=Fem|Number=Sing\n",
      ". - PUNCT\n",
      "Однажды - ADV|Degree=Pos\n",
      "вечером - NOUN|Animacy=Inan|Case=Ins|Gender=Masc|Number=Sing\n",
      "к - ADP\n",
      "ней - PRON|Case=Dat|Gender=Fem|Number=Sing|Person=3\n",
      "подошла - VERB|Aspect=Perf|Gender=Fem|Mood=Ind|Number=Sing|Tense=Past|VerbForm=Fin|Voice=Act\n",
      "девочка - NOUN|Animacy=Anim|Case=Nom|Gender=Fem|Number=Sing\n",
      "с - ADP\n",
      "велосипедом - NOUN|Animacy=Inan|Case=Ins|Gender=Masc|Number=Sing\n",
      "и - CCONJ\n",
      "спросила - VERB|Aspect=Perf|Gender=Fem|Mood=Ind|Number=Sing|Tense=Past|VerbForm=Fin|Voice=Act\n",
      ", - PUNCT\n",
      "не - PART|Polarity=Neg\n",
      "видела - VERB|Aspect=Imp|Gender=Fem|Mood=Ind|Number=Sing|Tense=Past|VerbForm=Fin|Voice=Act\n",
      "ли - PART\n",
      "она - PRON|Case=Nom|Gender=Fem|Number=Sing|Person=3\n",
      "ее - PRON|Case=Acc|Gender=Fem|Number=Sing|Person=3\n",
      "пропавшего - VERB|Aspect=Perf|Case=Gen|Gender=Masc|Number=Sing|Tense=Past|VerbForm=Part|Voice=Act\n",
      "котенка - NOUN|Animacy=Anim|Case=Acc|Gender=Masc|Number=Sing\n",
      ". - PUNCT\n"
     ]
    },
    {
     "data": {
      "text/plain": [
       "[None, None, None, None]"
      ]
     },
     "execution_count": 43,
     "metadata": {},
     "output_type": "execute_result"
    }
   ],
   "source": [
    "n_text1_markup = list(_ for _ in n_morph.map(n_sen_chunk_1))\n",
    "[print_pos(x) for x in n_text1_markup]"
   ]
  },
  {
   "cell_type": "markdown",
   "metadata": {},
   "source": [
    "#### Лемматизация"
   ]
  },
  {
   "cell_type": "code",
   "execution_count": 45,
   "metadata": {},
   "outputs": [
    {
     "name": "stdout",
     "output_type": "stream",
     "text": [
      "В 15939375860797385675 в\n",
      "парке 692657576553750008 парк\n",
      "на 16191904166009283104 на\n",
      "краю 980890529103078125 край\n",
      "города 6063391427805833384 город\n",
      "растут 10901876232466620837 расти\n",
      "старые 4368933178171963056 старый\n",
      "дубы 11860818977535489124 дубы\n",
      "и 15015917632809974589 и\n",
      "ясени 5241734277658022696 ясени\n",
      ". 12646065887601541794 .\n",
      "Каждый 8631549241623973500 каждый\n",
      "вечер 8719956961064430379 вечер\n",
      "туда 12581053013947701146 туда\n",
      "приходит 5410140271773529333 приходить\n",
      "пожилая 14474121584314791561 пожилой\n",
      "женщина 14711830364864977040 женщина\n",
      "с 5863529159893111856 с\n",
      "белой 8754127145112654094 белый\n",
      "собакой 17190885073072390335 собака\n",
      ". 12646065887601541794 .\n",
      "Она 1636123244288328534 она\n",
      "любит 3482015854755669259 любить\n",
      "сидеть 8581546620515527494 сидеть\n",
      "на 16191904166009283104 на\n",
      "скамейке 10758094789759543690 скамейка\n",
      "и 15015917632809974589 и\n",
      "читать 16559896398616316112 читать\n",
      "книги 6587368699761570485 книга\n",
      ", 2593208677638477497 ,\n",
      "пока 3344020790866614658 пока\n",
      "собака 17190885073072390335 собака\n",
      "бегает 1325073068706028034 бегать\n",
      "по 12047934663327436226 по\n",
      "лужайке 6668165599393936598 лужайка\n",
      ". 12646065887601541794 .\n",
      "Однажды 5035183580430896573 однажды\n",
      "вечером 8719956961064430379 вечер\n",
      "к 2390146911029080849 к\n",
      "ней 6370563992700638067 ней\n",
      "подошла 16345088767909659400 подойти\n",
      "девочка 15450349728185719425 девочка\n",
      "с 5863529159893111856 с\n",
      "велосипедом 457832749362563597 велосипед\n",
      "и 15015917632809974589 и\n",
      "спросила 11529464371375940213 спросить\n",
      ", 2593208677638477497 ,\n",
      "не 5319710824202933802 не\n",
      "видела 11385572989387288387 видеть\n",
      "ли 1625310644538641077 ли\n",
      "она 1636123244288328534 она\n",
      "ее 1636123244288328534 она\n",
      "пропавшего 1107468537556225995 пропасть\n",
      "котенка 8384255308170038330 котёнок\n",
      ". 12646065887601541794 .\n"
     ]
    }
   ],
   "source": [
    "# Spacy\n",
    "for token in spacy_text1:\n",
    "      print(token, token.lemma, token.lemma_)"
   ]
  },
  {
   "cell_type": "code",
   "execution_count": 48,
   "metadata": {},
   "outputs": [
    {
     "name": "stdout",
     "output_type": "stream",
     "text": [
      "Collecting natasha\n",
      "  Obtaining dependency information for natasha from https://files.pythonhosted.org/packages/32/9c/bb9d33c13564bcc939bb727087ef51b16ed3b49cc3b8fdec07c87b02f1de/natasha-1.6.0-py3-none-any.whl.metadata\n",
      "  Downloading natasha-1.6.0-py3-none-any.whl.metadata (23 kB)\n",
      "Collecting pymorphy2 (from natasha)\n",
      "  Obtaining dependency information for pymorphy2 from https://files.pythonhosted.org/packages/07/57/b2ff2fae3376d4f3c697b9886b64a54b476e1a332c67eee9f88e7f1ae8c9/pymorphy2-0.9.1-py3-none-any.whl.metadata\n",
      "  Downloading pymorphy2-0.9.1-py3-none-any.whl.metadata (3.6 kB)\n",
      "Requirement already satisfied: razdel>=0.5.0 in /Users/evseykirichkov/anaconda3/lib/python3.11/site-packages (from natasha) (0.5.0)\n",
      "Requirement already satisfied: navec>=0.9.0 in /Users/evseykirichkov/anaconda3/lib/python3.11/site-packages (from natasha) (0.10.0)\n",
      "Requirement already satisfied: slovnet>=0.6.0 in /Users/evseykirichkov/anaconda3/lib/python3.11/site-packages (from natasha) (0.6.0)\n",
      "Collecting yargy>=0.16.0 (from natasha)\n",
      "  Obtaining dependency information for yargy>=0.16.0 from https://files.pythonhosted.org/packages/b7/55/d065a9812c619889fbe01a1863743ee45f7c60c462fc95b19576972ee9e4/yargy-0.16.0-py3-none-any.whl.metadata\n",
      "  Downloading yargy-0.16.0-py3-none-any.whl.metadata (3.5 kB)\n",
      "Collecting ipymarkup>=0.8.0 (from natasha)\n",
      "  Obtaining dependency information for ipymarkup>=0.8.0 from https://files.pythonhosted.org/packages/bf/9b/bf54c98d50735a4a7c84c71e92c5361730c878ebfe903d2c2d196ef66055/ipymarkup-0.9.0-py3-none-any.whl.metadata\n",
      "  Downloading ipymarkup-0.9.0-py3-none-any.whl.metadata (5.6 kB)\n",
      "Requirement already satisfied: intervaltree>=3 in /Users/evseykirichkov/anaconda3/lib/python3.11/site-packages (from ipymarkup>=0.8.0->natasha) (3.1.0)\n",
      "Requirement already satisfied: numpy in /Users/evseykirichkov/anaconda3/lib/python3.11/site-packages (from navec>=0.9.0->natasha) (1.26.4)\n",
      "Requirement already satisfied: dawg-python>=0.7.1 in /Users/evseykirichkov/anaconda3/lib/python3.11/site-packages (from pymorphy2->natasha) (0.7.2)\n",
      "Collecting pymorphy2-dicts-ru<3.0,>=2.4 (from pymorphy2->natasha)\n",
      "  Obtaining dependency information for pymorphy2-dicts-ru<3.0,>=2.4 from https://files.pythonhosted.org/packages/3a/79/bea0021eeb7eeefde22ef9e96badf174068a2dd20264b9a378f2be1cdd9e/pymorphy2_dicts_ru-2.4.417127.4579844-py2.py3-none-any.whl.metadata\n",
      "  Downloading pymorphy2_dicts_ru-2.4.417127.4579844-py2.py3-none-any.whl.metadata (2.1 kB)\n",
      "Collecting docopt>=0.6 (from pymorphy2->natasha)\n",
      "  Downloading docopt-0.6.2.tar.gz (25 kB)\n",
      "  Preparing metadata (setup.py) ... \u001b[?25ldone\n",
      "\u001b[?25hRequirement already satisfied: sortedcontainers<3.0,>=2.0 in /Users/evseykirichkov/anaconda3/lib/python3.11/site-packages (from intervaltree>=3->ipymarkup>=0.8.0->natasha) (2.4.0)\n",
      "Downloading natasha-1.6.0-py3-none-any.whl (34.4 MB)\n",
      "\u001b[2K   \u001b[90m━━━━━━━━━━━━━━━━━━━━━━━━━━━━━━━━━━━━━━━━\u001b[0m \u001b[32m34.4/34.4 MB\u001b[0m \u001b[31m5.2 MB/s\u001b[0m eta \u001b[36m0:00:00\u001b[0m00:01\u001b[0m00:01\u001b[0mm\n",
      "\u001b[?25hDownloading ipymarkup-0.9.0-py3-none-any.whl (14 kB)\n",
      "Downloading yargy-0.16.0-py3-none-any.whl (33 kB)\n",
      "Downloading pymorphy2-0.9.1-py3-none-any.whl (55 kB)\n",
      "\u001b[2K   \u001b[90m━━━━━━━━━━━━━━━━━━━━━━━━━━━━━━━━━━━━━━━━\u001b[0m \u001b[32m55.5/55.5 kB\u001b[0m \u001b[31m4.8 MB/s\u001b[0m eta \u001b[36m0:00:00\u001b[0m\n",
      "\u001b[?25hDownloading pymorphy2_dicts_ru-2.4.417127.4579844-py2.py3-none-any.whl (8.2 MB)\n",
      "\u001b[2K   \u001b[90m━━━━━━━━━━━━━━━━━━━━━━━━━━━━━━━━━━━━━━━━\u001b[0m \u001b[32m8.2/8.2 MB\u001b[0m \u001b[31m5.8 MB/s\u001b[0m eta \u001b[36m0:00:00\u001b[0m00:01\u001b[0m00:01\u001b[0m\n",
      "\u001b[?25hBuilding wheels for collected packages: docopt\n",
      "  Building wheel for docopt (setup.py) ... \u001b[?25ldone\n",
      "\u001b[?25h  Created wheel for docopt: filename=docopt-0.6.2-py2.py3-none-any.whl size=13705 sha256=297e670ffb0f38dac888648f2703975938765d8856eb177e7340f917002d4fa0\n",
      "  Stored in directory: /Users/evseykirichkov/Library/Caches/pip/wheels/1a/b0/8c/4b75c4116c31f83c8f9f047231251e13cc74481cca4a78a9ce\n",
      "Successfully built docopt\n",
      "Installing collected packages: pymorphy2-dicts-ru, docopt, pymorphy2, yargy, ipymarkup, natasha\n",
      "Successfully installed docopt-0.6.2 ipymarkup-0.9.0 natasha-1.6.0 pymorphy2-0.9.1 pymorphy2-dicts-ru-2.4.417127.4579844 yargy-0.16.0\n"
     ]
    }
   ],
   "source": [
    "# Natasha\n",
    "! pip install natasha"
   ]
  },
  {
   "cell_type": "code",
   "execution_count": 49,
   "metadata": {},
   "outputs": [],
   "source": [
    "from natasha import Doc, Segmenter, NewsEmbedding, NewsMorphTagger, MorphVocab"
   ]
  },
  {
   "cell_type": "code",
   "execution_count": 50,
   "metadata": {},
   "outputs": [],
   "source": [
    "def n_lemmatize(text):\n",
    "    emb = NewsEmbedding()\n",
    "    morph_tagger = NewsMorphTagger(emb)\n",
    "    segmenter = Segmenter()\n",
    "    morph_vocab = MorphVocab()\n",
    "    doc = Doc(text)\n",
    "    doc.segment(segmenter)\n",
    "    doc.tag_morph(morph_tagger)\n",
    "    for token in doc.tokens:\n",
    "        token.lemmatize(morph_vocab)\n",
    "    return doc"
   ]
  },
  {
   "cell_type": "code",
   "execution_count": 51,
   "metadata": {},
   "outputs": [
    {
     "data": {
      "text/plain": [
       "{'В': 'в',\n",
       " 'парке': 'парк',\n",
       " 'на': 'на',\n",
       " 'краю': 'край',\n",
       " 'города': 'город',\n",
       " 'растут': 'расти',\n",
       " 'старые': 'старый',\n",
       " 'дубы': 'дуб',\n",
       " 'и': 'и',\n",
       " 'ясени': 'ясень',\n",
       " '.': '.',\n",
       " 'Каждый': 'каждый',\n",
       " 'вечер': 'вечер',\n",
       " 'туда': 'туда',\n",
       " 'приходит': 'приходить',\n",
       " 'пожилая': 'пожилой',\n",
       " 'женщина': 'женщина',\n",
       " 'с': 'с',\n",
       " 'белой': 'белый',\n",
       " 'собакой': 'собака',\n",
       " 'Она': 'она',\n",
       " 'любит': 'любить',\n",
       " 'сидеть': 'сидеть',\n",
       " 'скамейке': 'скамейка',\n",
       " 'читать': 'читать',\n",
       " 'книги': 'книга',\n",
       " ',': ',',\n",
       " 'пока': 'пока',\n",
       " 'собака': 'собака',\n",
       " 'бегает': 'бегать',\n",
       " 'по': 'по',\n",
       " 'лужайке': 'лужайка',\n",
       " 'Однажды': 'однажды',\n",
       " 'вечером': 'вечер',\n",
       " 'к': 'к',\n",
       " 'ней': 'она',\n",
       " 'подошла': 'подойти',\n",
       " 'девочка': 'девочка',\n",
       " 'велосипедом': 'велосипед',\n",
       " 'спросила': 'спросить',\n",
       " 'не': 'не',\n",
       " 'видела': 'видеть',\n",
       " 'ли': 'ли',\n",
       " 'она': 'она',\n",
       " 'ее': 'она',\n",
       " 'пропавшего': 'пропасть',\n",
       " 'котенка': 'котенок'}"
      ]
     },
     "execution_count": 51,
     "metadata": {},
     "output_type": "execute_result"
    }
   ],
   "source": [
    "n_doc1 = n_lemmatize(text1)\n",
    "{_.text: _.lemma for _ in n_doc1.tokens}"
   ]
  },
  {
   "cell_type": "markdown",
   "metadata": {},
   "source": [
    "#### Выделение (распознавание) именованных сущностей"
   ]
  },
  {
   "cell_type": "code",
   "execution_count": 58,
   "metadata": {},
   "outputs": [
    {
     "name": "stdout",
     "output_type": "stream",
     "text": [
      "Мария PER\n"
     ]
    }
   ],
   "source": [
    "# Spacy\n",
    "for ent in spacy_text2.ents:\n",
    "    print(ent.text, ent.label_)"
   ]
  },
  {
   "cell_type": "code",
   "execution_count": 61,
   "metadata": {},
   "outputs": [
    {
     "data": {
      "text/html": [
       "<span class=\"tex2jax_ignore\"><div class=\"entities\" style=\"line-height: 2.5; direction: ltr\">В офисе всегда царит суета по утрам. Сотрудники спешат к своим рабочим местам, на столах дымятся чашки с горячим кофе, и слышатся звуки печатающих клавиатур. \n",
       "<mark class=\"entity\" style=\"background: #ddd; padding: 0.45em 0.6em; margin: 0 0.25em; line-height: 1; border-radius: 0.35em;\">\n",
       "    Мария\n",
       "    <span style=\"font-size: 0.8em; font-weight: bold; line-height: 1; border-radius: 0.35em; vertical-align: middle; margin-left: 0.5rem\">PER</span>\n",
       "</mark>\n",
       ", новая сотрудница, нервно листала страницы своего блокнота, готовясь к первой встрече с клиентами. Ее коллеги подбадривали ее, уверяя, что все пройдет отлично.</div></span>"
      ],
      "text/plain": [
       "<IPython.core.display.HTML object>"
      ]
     },
     "metadata": {},
     "output_type": "display_data"
    }
   ],
   "source": [
    "from spacy import displacy\n",
    "displacy.render(spacy_text2, style='ent', jupyter=True)"
   ]
  },
  {
   "cell_type": "code",
   "execution_count": 63,
   "metadata": {},
   "outputs": [
    {
     "name": "stdout",
     "output_type": "stream",
     "text": [
      "Named person or family.\n"
     ]
    }
   ],
   "source": [
    "print(spacy.explain(\"PER\"))"
   ]
  },
  {
   "cell_type": "code",
   "execution_count": 64,
   "metadata": {},
   "outputs": [],
   "source": [
    "# Natasha\n",
    "from slovnet import NER\n",
    "from ipymarkup import show_span_ascii_markup as show_markup"
   ]
  },
  {
   "cell_type": "code",
   "execution_count": 69,
   "metadata": {},
   "outputs": [
    {
     "data": {
      "text/plain": [
       "SpanMarkup(\n",
       "    text='В офисе всегда царит суета по утрам. Сотрудники спешат к своим рабочим местам, на столах дымятся чашки с горячим кофе, и слышатся звуки печатающих клавиатур. Мария, новая сотрудница, нервно листала страницы своего блокнота, готовясь к первой встрече с клиентами. Ее коллеги подбадривали ее, уверяя, что все пройдет отлично.',\n",
       "    spans=[Span(\n",
       "         start=158,\n",
       "         stop=163,\n",
       "         type='PER'\n",
       "     )]\n",
       ")"
      ]
     },
     "execution_count": 69,
     "metadata": {},
     "output_type": "execute_result"
    }
   ],
   "source": [
    "ner = NER.load('data/slovnet_ner_news_v1.tar')\n",
    "ner_res = ner.navec(navec)\n",
    "markup_ner3 = ner(text2)\n",
    "markup_ner3"
   ]
  },
  {
   "cell_type": "code",
   "execution_count": 70,
   "metadata": {},
   "outputs": [
    {
     "name": "stdout",
     "output_type": "stream",
     "text": [
      "В офисе всегда царит суета по утрам. Сотрудники спешат к своим рабочим\n",
      " местам, на столах дымятся чашки с горячим кофе, и слышатся звуки \n",
      "печатающих клавиатур. Мария, новая сотрудница, нервно листала страницы\n",
      "                      PER──                                           \n",
      " своего блокнота, готовясь к первой встрече с клиентами. Ее коллеги \n",
      "подбадривали ее, уверяя, что все пройдет отлично.\n"
     ]
    }
   ],
   "source": [
    "show_markup(markup_ner3.text, markup_ner3.spans)"
   ]
  },
  {
   "cell_type": "markdown",
   "metadata": {},
   "source": [
    "#### Разбор предложения"
   ]
  },
  {
   "cell_type": "code",
   "execution_count": 71,
   "metadata": {},
   "outputs": [],
   "source": [
    "# Spacy\n",
    "from spacy import displacy"
   ]
  },
  {
   "cell_type": "code",
   "execution_count": 72,
   "metadata": {},
   "outputs": [
    {
     "data": {
      "text/html": [
       "<span class=\"tex2jax_ignore\"><svg xmlns=\"http://www.w3.org/2000/svg\" xmlns:xlink=\"http://www.w3.org/1999/xlink\" xml:lang=\"ru\" id=\"05c156120c0f48d39d0681caebdf8df9-0\" class=\"displacy\" width=\"8625\" height=\"399.5\" direction=\"ltr\" style=\"max-width: none; height: 399.5px; color: #000000; background: #ffffff; font-family: Arial; direction: ltr\">\n",
       "<text class=\"displacy-token\" fill=\"currentColor\" text-anchor=\"middle\" y=\"309.5\">\n",
       "    <tspan class=\"displacy-word\" fill=\"currentColor\" x=\"50\">В</tspan>\n",
       "    <tspan class=\"displacy-tag\" dy=\"2em\" fill=\"currentColor\" x=\"50\">ADP</tspan>\n",
       "</text>\n",
       "\n",
       "<text class=\"displacy-token\" fill=\"currentColor\" text-anchor=\"middle\" y=\"309.5\">\n",
       "    <tspan class=\"displacy-word\" fill=\"currentColor\" x=\"225\">парке</tspan>\n",
       "    <tspan class=\"displacy-tag\" dy=\"2em\" fill=\"currentColor\" x=\"225\">NOUN</tspan>\n",
       "</text>\n",
       "\n",
       "<text class=\"displacy-token\" fill=\"currentColor\" text-anchor=\"middle\" y=\"309.5\">\n",
       "    <tspan class=\"displacy-word\" fill=\"currentColor\" x=\"400\">на</tspan>\n",
       "    <tspan class=\"displacy-tag\" dy=\"2em\" fill=\"currentColor\" x=\"400\">ADP</tspan>\n",
       "</text>\n",
       "\n",
       "<text class=\"displacy-token\" fill=\"currentColor\" text-anchor=\"middle\" y=\"309.5\">\n",
       "    <tspan class=\"displacy-word\" fill=\"currentColor\" x=\"575\">краю</tspan>\n",
       "    <tspan class=\"displacy-tag\" dy=\"2em\" fill=\"currentColor\" x=\"575\">NOUN</tspan>\n",
       "</text>\n",
       "\n",
       "<text class=\"displacy-token\" fill=\"currentColor\" text-anchor=\"middle\" y=\"309.5\">\n",
       "    <tspan class=\"displacy-word\" fill=\"currentColor\" x=\"750\">города</tspan>\n",
       "    <tspan class=\"displacy-tag\" dy=\"2em\" fill=\"currentColor\" x=\"750\">NOUN</tspan>\n",
       "</text>\n",
       "\n",
       "<text class=\"displacy-token\" fill=\"currentColor\" text-anchor=\"middle\" y=\"309.5\">\n",
       "    <tspan class=\"displacy-word\" fill=\"currentColor\" x=\"925\">растут</tspan>\n",
       "    <tspan class=\"displacy-tag\" dy=\"2em\" fill=\"currentColor\" x=\"925\">VERB</tspan>\n",
       "</text>\n",
       "\n",
       "<text class=\"displacy-token\" fill=\"currentColor\" text-anchor=\"middle\" y=\"309.5\">\n",
       "    <tspan class=\"displacy-word\" fill=\"currentColor\" x=\"1100\">старые</tspan>\n",
       "    <tspan class=\"displacy-tag\" dy=\"2em\" fill=\"currentColor\" x=\"1100\">ADJ</tspan>\n",
       "</text>\n",
       "\n",
       "<text class=\"displacy-token\" fill=\"currentColor\" text-anchor=\"middle\" y=\"309.5\">\n",
       "    <tspan class=\"displacy-word\" fill=\"currentColor\" x=\"1275\">дубы</tspan>\n",
       "    <tspan class=\"displacy-tag\" dy=\"2em\" fill=\"currentColor\" x=\"1275\">NOUN</tspan>\n",
       "</text>\n",
       "\n",
       "<text class=\"displacy-token\" fill=\"currentColor\" text-anchor=\"middle\" y=\"309.5\">\n",
       "    <tspan class=\"displacy-word\" fill=\"currentColor\" x=\"1450\">и</tspan>\n",
       "    <tspan class=\"displacy-tag\" dy=\"2em\" fill=\"currentColor\" x=\"1450\">CCONJ</tspan>\n",
       "</text>\n",
       "\n",
       "<text class=\"displacy-token\" fill=\"currentColor\" text-anchor=\"middle\" y=\"309.5\">\n",
       "    <tspan class=\"displacy-word\" fill=\"currentColor\" x=\"1625\">ясени.</tspan>\n",
       "    <tspan class=\"displacy-tag\" dy=\"2em\" fill=\"currentColor\" x=\"1625\">NOUN</tspan>\n",
       "</text>\n",
       "\n",
       "<text class=\"displacy-token\" fill=\"currentColor\" text-anchor=\"middle\" y=\"309.5\">\n",
       "    <tspan class=\"displacy-word\" fill=\"currentColor\" x=\"1800\">Каждый</tspan>\n",
       "    <tspan class=\"displacy-tag\" dy=\"2em\" fill=\"currentColor\" x=\"1800\">DET</tspan>\n",
       "</text>\n",
       "\n",
       "<text class=\"displacy-token\" fill=\"currentColor\" text-anchor=\"middle\" y=\"309.5\">\n",
       "    <tspan class=\"displacy-word\" fill=\"currentColor\" x=\"1975\">вечер</tspan>\n",
       "    <tspan class=\"displacy-tag\" dy=\"2em\" fill=\"currentColor\" x=\"1975\">NOUN</tspan>\n",
       "</text>\n",
       "\n",
       "<text class=\"displacy-token\" fill=\"currentColor\" text-anchor=\"middle\" y=\"309.5\">\n",
       "    <tspan class=\"displacy-word\" fill=\"currentColor\" x=\"2150\">туда</tspan>\n",
       "    <tspan class=\"displacy-tag\" dy=\"2em\" fill=\"currentColor\" x=\"2150\">ADV</tspan>\n",
       "</text>\n",
       "\n",
       "<text class=\"displacy-token\" fill=\"currentColor\" text-anchor=\"middle\" y=\"309.5\">\n",
       "    <tspan class=\"displacy-word\" fill=\"currentColor\" x=\"2325\">приходит</tspan>\n",
       "    <tspan class=\"displacy-tag\" dy=\"2em\" fill=\"currentColor\" x=\"2325\">VERB</tspan>\n",
       "</text>\n",
       "\n",
       "<text class=\"displacy-token\" fill=\"currentColor\" text-anchor=\"middle\" y=\"309.5\">\n",
       "    <tspan class=\"displacy-word\" fill=\"currentColor\" x=\"2500\">пожилая</tspan>\n",
       "    <tspan class=\"displacy-tag\" dy=\"2em\" fill=\"currentColor\" x=\"2500\">ADJ</tspan>\n",
       "</text>\n",
       "\n",
       "<text class=\"displacy-token\" fill=\"currentColor\" text-anchor=\"middle\" y=\"309.5\">\n",
       "    <tspan class=\"displacy-word\" fill=\"currentColor\" x=\"2675\">женщина</tspan>\n",
       "    <tspan class=\"displacy-tag\" dy=\"2em\" fill=\"currentColor\" x=\"2675\">NOUN</tspan>\n",
       "</text>\n",
       "\n",
       "<text class=\"displacy-token\" fill=\"currentColor\" text-anchor=\"middle\" y=\"309.5\">\n",
       "    <tspan class=\"displacy-word\" fill=\"currentColor\" x=\"2850\">с</tspan>\n",
       "    <tspan class=\"displacy-tag\" dy=\"2em\" fill=\"currentColor\" x=\"2850\">ADP</tspan>\n",
       "</text>\n",
       "\n",
       "<text class=\"displacy-token\" fill=\"currentColor\" text-anchor=\"middle\" y=\"309.5\">\n",
       "    <tspan class=\"displacy-word\" fill=\"currentColor\" x=\"3025\">белой</tspan>\n",
       "    <tspan class=\"displacy-tag\" dy=\"2em\" fill=\"currentColor\" x=\"3025\">ADJ</tspan>\n",
       "</text>\n",
       "\n",
       "<text class=\"displacy-token\" fill=\"currentColor\" text-anchor=\"middle\" y=\"309.5\">\n",
       "    <tspan class=\"displacy-word\" fill=\"currentColor\" x=\"3200\">собакой.</tspan>\n",
       "    <tspan class=\"displacy-tag\" dy=\"2em\" fill=\"currentColor\" x=\"3200\">NOUN</tspan>\n",
       "</text>\n",
       "\n",
       "<text class=\"displacy-token\" fill=\"currentColor\" text-anchor=\"middle\" y=\"309.5\">\n",
       "    <tspan class=\"displacy-word\" fill=\"currentColor\" x=\"3375\">Она</tspan>\n",
       "    <tspan class=\"displacy-tag\" dy=\"2em\" fill=\"currentColor\" x=\"3375\">PRON</tspan>\n",
       "</text>\n",
       "\n",
       "<text class=\"displacy-token\" fill=\"currentColor\" text-anchor=\"middle\" y=\"309.5\">\n",
       "    <tspan class=\"displacy-word\" fill=\"currentColor\" x=\"3550\">любит</tspan>\n",
       "    <tspan class=\"displacy-tag\" dy=\"2em\" fill=\"currentColor\" x=\"3550\">VERB</tspan>\n",
       "</text>\n",
       "\n",
       "<text class=\"displacy-token\" fill=\"currentColor\" text-anchor=\"middle\" y=\"309.5\">\n",
       "    <tspan class=\"displacy-word\" fill=\"currentColor\" x=\"3725\">сидеть</tspan>\n",
       "    <tspan class=\"displacy-tag\" dy=\"2em\" fill=\"currentColor\" x=\"3725\">VERB</tspan>\n",
       "</text>\n",
       "\n",
       "<text class=\"displacy-token\" fill=\"currentColor\" text-anchor=\"middle\" y=\"309.5\">\n",
       "    <tspan class=\"displacy-word\" fill=\"currentColor\" x=\"3900\">на</tspan>\n",
       "    <tspan class=\"displacy-tag\" dy=\"2em\" fill=\"currentColor\" x=\"3900\">ADP</tspan>\n",
       "</text>\n",
       "\n",
       "<text class=\"displacy-token\" fill=\"currentColor\" text-anchor=\"middle\" y=\"309.5\">\n",
       "    <tspan class=\"displacy-word\" fill=\"currentColor\" x=\"4075\">скамейке</tspan>\n",
       "    <tspan class=\"displacy-tag\" dy=\"2em\" fill=\"currentColor\" x=\"4075\">NOUN</tspan>\n",
       "</text>\n",
       "\n",
       "<text class=\"displacy-token\" fill=\"currentColor\" text-anchor=\"middle\" y=\"309.5\">\n",
       "    <tspan class=\"displacy-word\" fill=\"currentColor\" x=\"4250\">и</tspan>\n",
       "    <tspan class=\"displacy-tag\" dy=\"2em\" fill=\"currentColor\" x=\"4250\">CCONJ</tspan>\n",
       "</text>\n",
       "\n",
       "<text class=\"displacy-token\" fill=\"currentColor\" text-anchor=\"middle\" y=\"309.5\">\n",
       "    <tspan class=\"displacy-word\" fill=\"currentColor\" x=\"4425\">читать</tspan>\n",
       "    <tspan class=\"displacy-tag\" dy=\"2em\" fill=\"currentColor\" x=\"4425\">VERB</tspan>\n",
       "</text>\n",
       "\n",
       "<text class=\"displacy-token\" fill=\"currentColor\" text-anchor=\"middle\" y=\"309.5\">\n",
       "    <tspan class=\"displacy-word\" fill=\"currentColor\" x=\"4600\">книги,</tspan>\n",
       "    <tspan class=\"displacy-tag\" dy=\"2em\" fill=\"currentColor\" x=\"4600\">NOUN</tspan>\n",
       "</text>\n",
       "\n",
       "<text class=\"displacy-token\" fill=\"currentColor\" text-anchor=\"middle\" y=\"309.5\">\n",
       "    <tspan class=\"displacy-word\" fill=\"currentColor\" x=\"4775\">пока</tspan>\n",
       "    <tspan class=\"displacy-tag\" dy=\"2em\" fill=\"currentColor\" x=\"4775\">SCONJ</tspan>\n",
       "</text>\n",
       "\n",
       "<text class=\"displacy-token\" fill=\"currentColor\" text-anchor=\"middle\" y=\"309.5\">\n",
       "    <tspan class=\"displacy-word\" fill=\"currentColor\" x=\"4950\">собака</tspan>\n",
       "    <tspan class=\"displacy-tag\" dy=\"2em\" fill=\"currentColor\" x=\"4950\">NOUN</tspan>\n",
       "</text>\n",
       "\n",
       "<text class=\"displacy-token\" fill=\"currentColor\" text-anchor=\"middle\" y=\"309.5\">\n",
       "    <tspan class=\"displacy-word\" fill=\"currentColor\" x=\"5125\">бегает</tspan>\n",
       "    <tspan class=\"displacy-tag\" dy=\"2em\" fill=\"currentColor\" x=\"5125\">VERB</tspan>\n",
       "</text>\n",
       "\n",
       "<text class=\"displacy-token\" fill=\"currentColor\" text-anchor=\"middle\" y=\"309.5\">\n",
       "    <tspan class=\"displacy-word\" fill=\"currentColor\" x=\"5300\">по</tspan>\n",
       "    <tspan class=\"displacy-tag\" dy=\"2em\" fill=\"currentColor\" x=\"5300\">ADP</tspan>\n",
       "</text>\n",
       "\n",
       "<text class=\"displacy-token\" fill=\"currentColor\" text-anchor=\"middle\" y=\"309.5\">\n",
       "    <tspan class=\"displacy-word\" fill=\"currentColor\" x=\"5475\">лужайке.</tspan>\n",
       "    <tspan class=\"displacy-tag\" dy=\"2em\" fill=\"currentColor\" x=\"5475\">NOUN</tspan>\n",
       "</text>\n",
       "\n",
       "<text class=\"displacy-token\" fill=\"currentColor\" text-anchor=\"middle\" y=\"309.5\">\n",
       "    <tspan class=\"displacy-word\" fill=\"currentColor\" x=\"5650\">Однажды</tspan>\n",
       "    <tspan class=\"displacy-tag\" dy=\"2em\" fill=\"currentColor\" x=\"5650\">ADV</tspan>\n",
       "</text>\n",
       "\n",
       "<text class=\"displacy-token\" fill=\"currentColor\" text-anchor=\"middle\" y=\"309.5\">\n",
       "    <tspan class=\"displacy-word\" fill=\"currentColor\" x=\"5825\">вечером</tspan>\n",
       "    <tspan class=\"displacy-tag\" dy=\"2em\" fill=\"currentColor\" x=\"5825\">NOUN</tspan>\n",
       "</text>\n",
       "\n",
       "<text class=\"displacy-token\" fill=\"currentColor\" text-anchor=\"middle\" y=\"309.5\">\n",
       "    <tspan class=\"displacy-word\" fill=\"currentColor\" x=\"6000\">к</tspan>\n",
       "    <tspan class=\"displacy-tag\" dy=\"2em\" fill=\"currentColor\" x=\"6000\">ADP</tspan>\n",
       "</text>\n",
       "\n",
       "<text class=\"displacy-token\" fill=\"currentColor\" text-anchor=\"middle\" y=\"309.5\">\n",
       "    <tspan class=\"displacy-word\" fill=\"currentColor\" x=\"6175\">ней</tspan>\n",
       "    <tspan class=\"displacy-tag\" dy=\"2em\" fill=\"currentColor\" x=\"6175\">PRON</tspan>\n",
       "</text>\n",
       "\n",
       "<text class=\"displacy-token\" fill=\"currentColor\" text-anchor=\"middle\" y=\"309.5\">\n",
       "    <tspan class=\"displacy-word\" fill=\"currentColor\" x=\"6350\">подошла</tspan>\n",
       "    <tspan class=\"displacy-tag\" dy=\"2em\" fill=\"currentColor\" x=\"6350\">VERB</tspan>\n",
       "</text>\n",
       "\n",
       "<text class=\"displacy-token\" fill=\"currentColor\" text-anchor=\"middle\" y=\"309.5\">\n",
       "    <tspan class=\"displacy-word\" fill=\"currentColor\" x=\"6525\">девочка</tspan>\n",
       "    <tspan class=\"displacy-tag\" dy=\"2em\" fill=\"currentColor\" x=\"6525\">NOUN</tspan>\n",
       "</text>\n",
       "\n",
       "<text class=\"displacy-token\" fill=\"currentColor\" text-anchor=\"middle\" y=\"309.5\">\n",
       "    <tspan class=\"displacy-word\" fill=\"currentColor\" x=\"6700\">с</tspan>\n",
       "    <tspan class=\"displacy-tag\" dy=\"2em\" fill=\"currentColor\" x=\"6700\">ADP</tspan>\n",
       "</text>\n",
       "\n",
       "<text class=\"displacy-token\" fill=\"currentColor\" text-anchor=\"middle\" y=\"309.5\">\n",
       "    <tspan class=\"displacy-word\" fill=\"currentColor\" x=\"6875\">велосипедом</tspan>\n",
       "    <tspan class=\"displacy-tag\" dy=\"2em\" fill=\"currentColor\" x=\"6875\">NOUN</tspan>\n",
       "</text>\n",
       "\n",
       "<text class=\"displacy-token\" fill=\"currentColor\" text-anchor=\"middle\" y=\"309.5\">\n",
       "    <tspan class=\"displacy-word\" fill=\"currentColor\" x=\"7050\">и</tspan>\n",
       "    <tspan class=\"displacy-tag\" dy=\"2em\" fill=\"currentColor\" x=\"7050\">CCONJ</tspan>\n",
       "</text>\n",
       "\n",
       "<text class=\"displacy-token\" fill=\"currentColor\" text-anchor=\"middle\" y=\"309.5\">\n",
       "    <tspan class=\"displacy-word\" fill=\"currentColor\" x=\"7225\">спросила,</tspan>\n",
       "    <tspan class=\"displacy-tag\" dy=\"2em\" fill=\"currentColor\" x=\"7225\">VERB</tspan>\n",
       "</text>\n",
       "\n",
       "<text class=\"displacy-token\" fill=\"currentColor\" text-anchor=\"middle\" y=\"309.5\">\n",
       "    <tspan class=\"displacy-word\" fill=\"currentColor\" x=\"7400\">не</tspan>\n",
       "    <tspan class=\"displacy-tag\" dy=\"2em\" fill=\"currentColor\" x=\"7400\">PART</tspan>\n",
       "</text>\n",
       "\n",
       "<text class=\"displacy-token\" fill=\"currentColor\" text-anchor=\"middle\" y=\"309.5\">\n",
       "    <tspan class=\"displacy-word\" fill=\"currentColor\" x=\"7575\">видела</tspan>\n",
       "    <tspan class=\"displacy-tag\" dy=\"2em\" fill=\"currentColor\" x=\"7575\">VERB</tspan>\n",
       "</text>\n",
       "\n",
       "<text class=\"displacy-token\" fill=\"currentColor\" text-anchor=\"middle\" y=\"309.5\">\n",
       "    <tspan class=\"displacy-word\" fill=\"currentColor\" x=\"7750\">ли</tspan>\n",
       "    <tspan class=\"displacy-tag\" dy=\"2em\" fill=\"currentColor\" x=\"7750\">PART</tspan>\n",
       "</text>\n",
       "\n",
       "<text class=\"displacy-token\" fill=\"currentColor\" text-anchor=\"middle\" y=\"309.5\">\n",
       "    <tspan class=\"displacy-word\" fill=\"currentColor\" x=\"7925\">она</tspan>\n",
       "    <tspan class=\"displacy-tag\" dy=\"2em\" fill=\"currentColor\" x=\"7925\">PRON</tspan>\n",
       "</text>\n",
       "\n",
       "<text class=\"displacy-token\" fill=\"currentColor\" text-anchor=\"middle\" y=\"309.5\">\n",
       "    <tspan class=\"displacy-word\" fill=\"currentColor\" x=\"8100\">ее</tspan>\n",
       "    <tspan class=\"displacy-tag\" dy=\"2em\" fill=\"currentColor\" x=\"8100\">DET</tspan>\n",
       "</text>\n",
       "\n",
       "<text class=\"displacy-token\" fill=\"currentColor\" text-anchor=\"middle\" y=\"309.5\">\n",
       "    <tspan class=\"displacy-word\" fill=\"currentColor\" x=\"8275\">пропавшего</tspan>\n",
       "    <tspan class=\"displacy-tag\" dy=\"2em\" fill=\"currentColor\" x=\"8275\">VERB</tspan>\n",
       "</text>\n",
       "\n",
       "<text class=\"displacy-token\" fill=\"currentColor\" text-anchor=\"middle\" y=\"309.5\">\n",
       "    <tspan class=\"displacy-word\" fill=\"currentColor\" x=\"8450\">котенка.</tspan>\n",
       "    <tspan class=\"displacy-tag\" dy=\"2em\" fill=\"currentColor\" x=\"8450\">NOUN</tspan>\n",
       "</text>\n",
       "\n",
       "<g class=\"displacy-arrow\">\n",
       "    <path class=\"displacy-arc\" id=\"arrow-05c156120c0f48d39d0681caebdf8df9-0-0\" stroke-width=\"2px\" d=\"M70,264.5 C70,177.0 215.0,177.0 215.0,264.5\" fill=\"none\" stroke=\"currentColor\"/>\n",
       "    <text dy=\"1.25em\" style=\"font-size: 0.8em; letter-spacing: 1px\">\n",
       "        <textPath xlink:href=\"#arrow-05c156120c0f48d39d0681caebdf8df9-0-0\" class=\"displacy-label\" startOffset=\"50%\" side=\"left\" fill=\"currentColor\" text-anchor=\"middle\">case</textPath>\n",
       "    </text>\n",
       "    <path class=\"displacy-arrowhead\" d=\"M70,266.5 L62,254.5 78,254.5\" fill=\"currentColor\"/>\n",
       "</g>\n",
       "\n",
       "<g class=\"displacy-arrow\">\n",
       "    <path class=\"displacy-arc\" id=\"arrow-05c156120c0f48d39d0681caebdf8df9-0-1\" stroke-width=\"2px\" d=\"M245,264.5 C245,2.0 925.0,2.0 925.0,264.5\" fill=\"none\" stroke=\"currentColor\"/>\n",
       "    <text dy=\"1.25em\" style=\"font-size: 0.8em; letter-spacing: 1px\">\n",
       "        <textPath xlink:href=\"#arrow-05c156120c0f48d39d0681caebdf8df9-0-1\" class=\"displacy-label\" startOffset=\"50%\" side=\"left\" fill=\"currentColor\" text-anchor=\"middle\">obl</textPath>\n",
       "    </text>\n",
       "    <path class=\"displacy-arrowhead\" d=\"M245,266.5 L237,254.5 253,254.5\" fill=\"currentColor\"/>\n",
       "</g>\n",
       "\n",
       "<g class=\"displacy-arrow\">\n",
       "    <path class=\"displacy-arc\" id=\"arrow-05c156120c0f48d39d0681caebdf8df9-0-2\" stroke-width=\"2px\" d=\"M420,264.5 C420,177.0 565.0,177.0 565.0,264.5\" fill=\"none\" stroke=\"currentColor\"/>\n",
       "    <text dy=\"1.25em\" style=\"font-size: 0.8em; letter-spacing: 1px\">\n",
       "        <textPath xlink:href=\"#arrow-05c156120c0f48d39d0681caebdf8df9-0-2\" class=\"displacy-label\" startOffset=\"50%\" side=\"left\" fill=\"currentColor\" text-anchor=\"middle\">case</textPath>\n",
       "    </text>\n",
       "    <path class=\"displacy-arrowhead\" d=\"M420,266.5 L412,254.5 428,254.5\" fill=\"currentColor\"/>\n",
       "</g>\n",
       "\n",
       "<g class=\"displacy-arrow\">\n",
       "    <path class=\"displacy-arc\" id=\"arrow-05c156120c0f48d39d0681caebdf8df9-0-3\" stroke-width=\"2px\" d=\"M245,264.5 C245,89.5 570.0,89.5 570.0,264.5\" fill=\"none\" stroke=\"currentColor\"/>\n",
       "    <text dy=\"1.25em\" style=\"font-size: 0.8em; letter-spacing: 1px\">\n",
       "        <textPath xlink:href=\"#arrow-05c156120c0f48d39d0681caebdf8df9-0-3\" class=\"displacy-label\" startOffset=\"50%\" side=\"left\" fill=\"currentColor\" text-anchor=\"middle\">nmod</textPath>\n",
       "    </text>\n",
       "    <path class=\"displacy-arrowhead\" d=\"M570.0,266.5 L578.0,254.5 562.0,254.5\" fill=\"currentColor\"/>\n",
       "</g>\n",
       "\n",
       "<g class=\"displacy-arrow\">\n",
       "    <path class=\"displacy-arc\" id=\"arrow-05c156120c0f48d39d0681caebdf8df9-0-4\" stroke-width=\"2px\" d=\"M595,264.5 C595,177.0 740.0,177.0 740.0,264.5\" fill=\"none\" stroke=\"currentColor\"/>\n",
       "    <text dy=\"1.25em\" style=\"font-size: 0.8em; letter-spacing: 1px\">\n",
       "        <textPath xlink:href=\"#arrow-05c156120c0f48d39d0681caebdf8df9-0-4\" class=\"displacy-label\" startOffset=\"50%\" side=\"left\" fill=\"currentColor\" text-anchor=\"middle\">nmod</textPath>\n",
       "    </text>\n",
       "    <path class=\"displacy-arrowhead\" d=\"M740.0,266.5 L748.0,254.5 732.0,254.5\" fill=\"currentColor\"/>\n",
       "</g>\n",
       "\n",
       "<g class=\"displacy-arrow\">\n",
       "    <path class=\"displacy-arc\" id=\"arrow-05c156120c0f48d39d0681caebdf8df9-0-5\" stroke-width=\"2px\" d=\"M1120,264.5 C1120,177.0 1265.0,177.0 1265.0,264.5\" fill=\"none\" stroke=\"currentColor\"/>\n",
       "    <text dy=\"1.25em\" style=\"font-size: 0.8em; letter-spacing: 1px\">\n",
       "        <textPath xlink:href=\"#arrow-05c156120c0f48d39d0681caebdf8df9-0-5\" class=\"displacy-label\" startOffset=\"50%\" side=\"left\" fill=\"currentColor\" text-anchor=\"middle\">amod</textPath>\n",
       "    </text>\n",
       "    <path class=\"displacy-arrowhead\" d=\"M1120,266.5 L1112,254.5 1128,254.5\" fill=\"currentColor\"/>\n",
       "</g>\n",
       "\n",
       "<g class=\"displacy-arrow\">\n",
       "    <path class=\"displacy-arc\" id=\"arrow-05c156120c0f48d39d0681caebdf8df9-0-6\" stroke-width=\"2px\" d=\"M945,264.5 C945,89.5 1270.0,89.5 1270.0,264.5\" fill=\"none\" stroke=\"currentColor\"/>\n",
       "    <text dy=\"1.25em\" style=\"font-size: 0.8em; letter-spacing: 1px\">\n",
       "        <textPath xlink:href=\"#arrow-05c156120c0f48d39d0681caebdf8df9-0-6\" class=\"displacy-label\" startOffset=\"50%\" side=\"left\" fill=\"currentColor\" text-anchor=\"middle\">nsubj</textPath>\n",
       "    </text>\n",
       "    <path class=\"displacy-arrowhead\" d=\"M1270.0,266.5 L1278.0,254.5 1262.0,254.5\" fill=\"currentColor\"/>\n",
       "</g>\n",
       "\n",
       "<g class=\"displacy-arrow\">\n",
       "    <path class=\"displacy-arc\" id=\"arrow-05c156120c0f48d39d0681caebdf8df9-0-7\" stroke-width=\"2px\" d=\"M1470,264.5 C1470,177.0 1615.0,177.0 1615.0,264.5\" fill=\"none\" stroke=\"currentColor\"/>\n",
       "    <text dy=\"1.25em\" style=\"font-size: 0.8em; letter-spacing: 1px\">\n",
       "        <textPath xlink:href=\"#arrow-05c156120c0f48d39d0681caebdf8df9-0-7\" class=\"displacy-label\" startOffset=\"50%\" side=\"left\" fill=\"currentColor\" text-anchor=\"middle\">cc</textPath>\n",
       "    </text>\n",
       "    <path class=\"displacy-arrowhead\" d=\"M1470,266.5 L1462,254.5 1478,254.5\" fill=\"currentColor\"/>\n",
       "</g>\n",
       "\n",
       "<g class=\"displacy-arrow\">\n",
       "    <path class=\"displacy-arc\" id=\"arrow-05c156120c0f48d39d0681caebdf8df9-0-8\" stroke-width=\"2px\" d=\"M1295,264.5 C1295,89.5 1620.0,89.5 1620.0,264.5\" fill=\"none\" stroke=\"currentColor\"/>\n",
       "    <text dy=\"1.25em\" style=\"font-size: 0.8em; letter-spacing: 1px\">\n",
       "        <textPath xlink:href=\"#arrow-05c156120c0f48d39d0681caebdf8df9-0-8\" class=\"displacy-label\" startOffset=\"50%\" side=\"left\" fill=\"currentColor\" text-anchor=\"middle\">conj</textPath>\n",
       "    </text>\n",
       "    <path class=\"displacy-arrowhead\" d=\"M1620.0,266.5 L1628.0,254.5 1612.0,254.5\" fill=\"currentColor\"/>\n",
       "</g>\n",
       "\n",
       "<g class=\"displacy-arrow\">\n",
       "    <path class=\"displacy-arc\" id=\"arrow-05c156120c0f48d39d0681caebdf8df9-0-9\" stroke-width=\"2px\" d=\"M1820,264.5 C1820,177.0 1965.0,177.0 1965.0,264.5\" fill=\"none\" stroke=\"currentColor\"/>\n",
       "    <text dy=\"1.25em\" style=\"font-size: 0.8em; letter-spacing: 1px\">\n",
       "        <textPath xlink:href=\"#arrow-05c156120c0f48d39d0681caebdf8df9-0-9\" class=\"displacy-label\" startOffset=\"50%\" side=\"left\" fill=\"currentColor\" text-anchor=\"middle\">det</textPath>\n",
       "    </text>\n",
       "    <path class=\"displacy-arrowhead\" d=\"M1820,266.5 L1812,254.5 1828,254.5\" fill=\"currentColor\"/>\n",
       "</g>\n",
       "\n",
       "<g class=\"displacy-arrow\">\n",
       "    <path class=\"displacy-arc\" id=\"arrow-05c156120c0f48d39d0681caebdf8df9-0-10\" stroke-width=\"2px\" d=\"M1995,264.5 C1995,89.5 2320.0,89.5 2320.0,264.5\" fill=\"none\" stroke=\"currentColor\"/>\n",
       "    <text dy=\"1.25em\" style=\"font-size: 0.8em; letter-spacing: 1px\">\n",
       "        <textPath xlink:href=\"#arrow-05c156120c0f48d39d0681caebdf8df9-0-10\" class=\"displacy-label\" startOffset=\"50%\" side=\"left\" fill=\"currentColor\" text-anchor=\"middle\">obl</textPath>\n",
       "    </text>\n",
       "    <path class=\"displacy-arrowhead\" d=\"M1995,266.5 L1987,254.5 2003,254.5\" fill=\"currentColor\"/>\n",
       "</g>\n",
       "\n",
       "<g class=\"displacy-arrow\">\n",
       "    <path class=\"displacy-arc\" id=\"arrow-05c156120c0f48d39d0681caebdf8df9-0-11\" stroke-width=\"2px\" d=\"M2170,264.5 C2170,177.0 2315.0,177.0 2315.0,264.5\" fill=\"none\" stroke=\"currentColor\"/>\n",
       "    <text dy=\"1.25em\" style=\"font-size: 0.8em; letter-spacing: 1px\">\n",
       "        <textPath xlink:href=\"#arrow-05c156120c0f48d39d0681caebdf8df9-0-11\" class=\"displacy-label\" startOffset=\"50%\" side=\"left\" fill=\"currentColor\" text-anchor=\"middle\">advmod</textPath>\n",
       "    </text>\n",
       "    <path class=\"displacy-arrowhead\" d=\"M2170,266.5 L2162,254.5 2178,254.5\" fill=\"currentColor\"/>\n",
       "</g>\n",
       "\n",
       "<g class=\"displacy-arrow\">\n",
       "    <path class=\"displacy-arc\" id=\"arrow-05c156120c0f48d39d0681caebdf8df9-0-12\" stroke-width=\"2px\" d=\"M2520,264.5 C2520,177.0 2665.0,177.0 2665.0,264.5\" fill=\"none\" stroke=\"currentColor\"/>\n",
       "    <text dy=\"1.25em\" style=\"font-size: 0.8em; letter-spacing: 1px\">\n",
       "        <textPath xlink:href=\"#arrow-05c156120c0f48d39d0681caebdf8df9-0-12\" class=\"displacy-label\" startOffset=\"50%\" side=\"left\" fill=\"currentColor\" text-anchor=\"middle\">amod</textPath>\n",
       "    </text>\n",
       "    <path class=\"displacy-arrowhead\" d=\"M2520,266.5 L2512,254.5 2528,254.5\" fill=\"currentColor\"/>\n",
       "</g>\n",
       "\n",
       "<g class=\"displacy-arrow\">\n",
       "    <path class=\"displacy-arc\" id=\"arrow-05c156120c0f48d39d0681caebdf8df9-0-13\" stroke-width=\"2px\" d=\"M2345,264.5 C2345,89.5 2670.0,89.5 2670.0,264.5\" fill=\"none\" stroke=\"currentColor\"/>\n",
       "    <text dy=\"1.25em\" style=\"font-size: 0.8em; letter-spacing: 1px\">\n",
       "        <textPath xlink:href=\"#arrow-05c156120c0f48d39d0681caebdf8df9-0-13\" class=\"displacy-label\" startOffset=\"50%\" side=\"left\" fill=\"currentColor\" text-anchor=\"middle\">nsubj</textPath>\n",
       "    </text>\n",
       "    <path class=\"displacy-arrowhead\" d=\"M2670.0,266.5 L2678.0,254.5 2662.0,254.5\" fill=\"currentColor\"/>\n",
       "</g>\n",
       "\n",
       "<g class=\"displacy-arrow\">\n",
       "    <path class=\"displacy-arc\" id=\"arrow-05c156120c0f48d39d0681caebdf8df9-0-14\" stroke-width=\"2px\" d=\"M2870,264.5 C2870,89.5 3195.0,89.5 3195.0,264.5\" fill=\"none\" stroke=\"currentColor\"/>\n",
       "    <text dy=\"1.25em\" style=\"font-size: 0.8em; letter-spacing: 1px\">\n",
       "        <textPath xlink:href=\"#arrow-05c156120c0f48d39d0681caebdf8df9-0-14\" class=\"displacy-label\" startOffset=\"50%\" side=\"left\" fill=\"currentColor\" text-anchor=\"middle\">case</textPath>\n",
       "    </text>\n",
       "    <path class=\"displacy-arrowhead\" d=\"M2870,266.5 L2862,254.5 2878,254.5\" fill=\"currentColor\"/>\n",
       "</g>\n",
       "\n",
       "<g class=\"displacy-arrow\">\n",
       "    <path class=\"displacy-arc\" id=\"arrow-05c156120c0f48d39d0681caebdf8df9-0-15\" stroke-width=\"2px\" d=\"M3045,264.5 C3045,177.0 3190.0,177.0 3190.0,264.5\" fill=\"none\" stroke=\"currentColor\"/>\n",
       "    <text dy=\"1.25em\" style=\"font-size: 0.8em; letter-spacing: 1px\">\n",
       "        <textPath xlink:href=\"#arrow-05c156120c0f48d39d0681caebdf8df9-0-15\" class=\"displacy-label\" startOffset=\"50%\" side=\"left\" fill=\"currentColor\" text-anchor=\"middle\">amod</textPath>\n",
       "    </text>\n",
       "    <path class=\"displacy-arrowhead\" d=\"M3045,266.5 L3037,254.5 3053,254.5\" fill=\"currentColor\"/>\n",
       "</g>\n",
       "\n",
       "<g class=\"displacy-arrow\">\n",
       "    <path class=\"displacy-arc\" id=\"arrow-05c156120c0f48d39d0681caebdf8df9-0-16\" stroke-width=\"2px\" d=\"M2695,264.5 C2695,2.0 3200.0,2.0 3200.0,264.5\" fill=\"none\" stroke=\"currentColor\"/>\n",
       "    <text dy=\"1.25em\" style=\"font-size: 0.8em; letter-spacing: 1px\">\n",
       "        <textPath xlink:href=\"#arrow-05c156120c0f48d39d0681caebdf8df9-0-16\" class=\"displacy-label\" startOffset=\"50%\" side=\"left\" fill=\"currentColor\" text-anchor=\"middle\">nmod</textPath>\n",
       "    </text>\n",
       "    <path class=\"displacy-arrowhead\" d=\"M3200.0,266.5 L3208.0,254.5 3192.0,254.5\" fill=\"currentColor\"/>\n",
       "</g>\n",
       "\n",
       "<g class=\"displacy-arrow\">\n",
       "    <path class=\"displacy-arc\" id=\"arrow-05c156120c0f48d39d0681caebdf8df9-0-17\" stroke-width=\"2px\" d=\"M3395,264.5 C3395,177.0 3540.0,177.0 3540.0,264.5\" fill=\"none\" stroke=\"currentColor\"/>\n",
       "    <text dy=\"1.25em\" style=\"font-size: 0.8em; letter-spacing: 1px\">\n",
       "        <textPath xlink:href=\"#arrow-05c156120c0f48d39d0681caebdf8df9-0-17\" class=\"displacy-label\" startOffset=\"50%\" side=\"left\" fill=\"currentColor\" text-anchor=\"middle\">nsubj</textPath>\n",
       "    </text>\n",
       "    <path class=\"displacy-arrowhead\" d=\"M3395,266.5 L3387,254.5 3403,254.5\" fill=\"currentColor\"/>\n",
       "</g>\n",
       "\n",
       "<g class=\"displacy-arrow\">\n",
       "    <path class=\"displacy-arc\" id=\"arrow-05c156120c0f48d39d0681caebdf8df9-0-18\" stroke-width=\"2px\" d=\"M3570,264.5 C3570,177.0 3715.0,177.0 3715.0,264.5\" fill=\"none\" stroke=\"currentColor\"/>\n",
       "    <text dy=\"1.25em\" style=\"font-size: 0.8em; letter-spacing: 1px\">\n",
       "        <textPath xlink:href=\"#arrow-05c156120c0f48d39d0681caebdf8df9-0-18\" class=\"displacy-label\" startOffset=\"50%\" side=\"left\" fill=\"currentColor\" text-anchor=\"middle\">xcomp</textPath>\n",
       "    </text>\n",
       "    <path class=\"displacy-arrowhead\" d=\"M3715.0,266.5 L3723.0,254.5 3707.0,254.5\" fill=\"currentColor\"/>\n",
       "</g>\n",
       "\n",
       "<g class=\"displacy-arrow\">\n",
       "    <path class=\"displacy-arc\" id=\"arrow-05c156120c0f48d39d0681caebdf8df9-0-19\" stroke-width=\"2px\" d=\"M3920,264.5 C3920,177.0 4065.0,177.0 4065.0,264.5\" fill=\"none\" stroke=\"currentColor\"/>\n",
       "    <text dy=\"1.25em\" style=\"font-size: 0.8em; letter-spacing: 1px\">\n",
       "        <textPath xlink:href=\"#arrow-05c156120c0f48d39d0681caebdf8df9-0-19\" class=\"displacy-label\" startOffset=\"50%\" side=\"left\" fill=\"currentColor\" text-anchor=\"middle\">case</textPath>\n",
       "    </text>\n",
       "    <path class=\"displacy-arrowhead\" d=\"M3920,266.5 L3912,254.5 3928,254.5\" fill=\"currentColor\"/>\n",
       "</g>\n",
       "\n",
       "<g class=\"displacy-arrow\">\n",
       "    <path class=\"displacy-arc\" id=\"arrow-05c156120c0f48d39d0681caebdf8df9-0-20\" stroke-width=\"2px\" d=\"M3745,264.5 C3745,89.5 4070.0,89.5 4070.0,264.5\" fill=\"none\" stroke=\"currentColor\"/>\n",
       "    <text dy=\"1.25em\" style=\"font-size: 0.8em; letter-spacing: 1px\">\n",
       "        <textPath xlink:href=\"#arrow-05c156120c0f48d39d0681caebdf8df9-0-20\" class=\"displacy-label\" startOffset=\"50%\" side=\"left\" fill=\"currentColor\" text-anchor=\"middle\">obl</textPath>\n",
       "    </text>\n",
       "    <path class=\"displacy-arrowhead\" d=\"M4070.0,266.5 L4078.0,254.5 4062.0,254.5\" fill=\"currentColor\"/>\n",
       "</g>\n",
       "\n",
       "<g class=\"displacy-arrow\">\n",
       "    <path class=\"displacy-arc\" id=\"arrow-05c156120c0f48d39d0681caebdf8df9-0-21\" stroke-width=\"2px\" d=\"M4270,264.5 C4270,177.0 4415.0,177.0 4415.0,264.5\" fill=\"none\" stroke=\"currentColor\"/>\n",
       "    <text dy=\"1.25em\" style=\"font-size: 0.8em; letter-spacing: 1px\">\n",
       "        <textPath xlink:href=\"#arrow-05c156120c0f48d39d0681caebdf8df9-0-21\" class=\"displacy-label\" startOffset=\"50%\" side=\"left\" fill=\"currentColor\" text-anchor=\"middle\">cc</textPath>\n",
       "    </text>\n",
       "    <path class=\"displacy-arrowhead\" d=\"M4270,266.5 L4262,254.5 4278,254.5\" fill=\"currentColor\"/>\n",
       "</g>\n",
       "\n",
       "<g class=\"displacy-arrow\">\n",
       "    <path class=\"displacy-arc\" id=\"arrow-05c156120c0f48d39d0681caebdf8df9-0-22\" stroke-width=\"2px\" d=\"M3745,264.5 C3745,2.0 4425.0,2.0 4425.0,264.5\" fill=\"none\" stroke=\"currentColor\"/>\n",
       "    <text dy=\"1.25em\" style=\"font-size: 0.8em; letter-spacing: 1px\">\n",
       "        <textPath xlink:href=\"#arrow-05c156120c0f48d39d0681caebdf8df9-0-22\" class=\"displacy-label\" startOffset=\"50%\" side=\"left\" fill=\"currentColor\" text-anchor=\"middle\">conj</textPath>\n",
       "    </text>\n",
       "    <path class=\"displacy-arrowhead\" d=\"M4425.0,266.5 L4433.0,254.5 4417.0,254.5\" fill=\"currentColor\"/>\n",
       "</g>\n",
       "\n",
       "<g class=\"displacy-arrow\">\n",
       "    <path class=\"displacy-arc\" id=\"arrow-05c156120c0f48d39d0681caebdf8df9-0-23\" stroke-width=\"2px\" d=\"M4445,264.5 C4445,177.0 4590.0,177.0 4590.0,264.5\" fill=\"none\" stroke=\"currentColor\"/>\n",
       "    <text dy=\"1.25em\" style=\"font-size: 0.8em; letter-spacing: 1px\">\n",
       "        <textPath xlink:href=\"#arrow-05c156120c0f48d39d0681caebdf8df9-0-23\" class=\"displacy-label\" startOffset=\"50%\" side=\"left\" fill=\"currentColor\" text-anchor=\"middle\">obj</textPath>\n",
       "    </text>\n",
       "    <path class=\"displacy-arrowhead\" d=\"M4590.0,266.5 L4598.0,254.5 4582.0,254.5\" fill=\"currentColor\"/>\n",
       "</g>\n",
       "\n",
       "<g class=\"displacy-arrow\">\n",
       "    <path class=\"displacy-arc\" id=\"arrow-05c156120c0f48d39d0681caebdf8df9-0-24\" stroke-width=\"2px\" d=\"M4795,264.5 C4795,89.5 5120.0,89.5 5120.0,264.5\" fill=\"none\" stroke=\"currentColor\"/>\n",
       "    <text dy=\"1.25em\" style=\"font-size: 0.8em; letter-spacing: 1px\">\n",
       "        <textPath xlink:href=\"#arrow-05c156120c0f48d39d0681caebdf8df9-0-24\" class=\"displacy-label\" startOffset=\"50%\" side=\"left\" fill=\"currentColor\" text-anchor=\"middle\">mark</textPath>\n",
       "    </text>\n",
       "    <path class=\"displacy-arrowhead\" d=\"M4795,266.5 L4787,254.5 4803,254.5\" fill=\"currentColor\"/>\n",
       "</g>\n",
       "\n",
       "<g class=\"displacy-arrow\">\n",
       "    <path class=\"displacy-arc\" id=\"arrow-05c156120c0f48d39d0681caebdf8df9-0-25\" stroke-width=\"2px\" d=\"M4970,264.5 C4970,177.0 5115.0,177.0 5115.0,264.5\" fill=\"none\" stroke=\"currentColor\"/>\n",
       "    <text dy=\"1.25em\" style=\"font-size: 0.8em; letter-spacing: 1px\">\n",
       "        <textPath xlink:href=\"#arrow-05c156120c0f48d39d0681caebdf8df9-0-25\" class=\"displacy-label\" startOffset=\"50%\" side=\"left\" fill=\"currentColor\" text-anchor=\"middle\">nsubj</textPath>\n",
       "    </text>\n",
       "    <path class=\"displacy-arrowhead\" d=\"M4970,266.5 L4962,254.5 4978,254.5\" fill=\"currentColor\"/>\n",
       "</g>\n",
       "\n",
       "<g class=\"displacy-arrow\">\n",
       "    <path class=\"displacy-arc\" id=\"arrow-05c156120c0f48d39d0681caebdf8df9-0-26\" stroke-width=\"2px\" d=\"M4445,264.5 C4445,2.0 5125.0,2.0 5125.0,264.5\" fill=\"none\" stroke=\"currentColor\"/>\n",
       "    <text dy=\"1.25em\" style=\"font-size: 0.8em; letter-spacing: 1px\">\n",
       "        <textPath xlink:href=\"#arrow-05c156120c0f48d39d0681caebdf8df9-0-26\" class=\"displacy-label\" startOffset=\"50%\" side=\"left\" fill=\"currentColor\" text-anchor=\"middle\">advcl</textPath>\n",
       "    </text>\n",
       "    <path class=\"displacy-arrowhead\" d=\"M5125.0,266.5 L5133.0,254.5 5117.0,254.5\" fill=\"currentColor\"/>\n",
       "</g>\n",
       "\n",
       "<g class=\"displacy-arrow\">\n",
       "    <path class=\"displacy-arc\" id=\"arrow-05c156120c0f48d39d0681caebdf8df9-0-27\" stroke-width=\"2px\" d=\"M5320,264.5 C5320,177.0 5465.0,177.0 5465.0,264.5\" fill=\"none\" stroke=\"currentColor\"/>\n",
       "    <text dy=\"1.25em\" style=\"font-size: 0.8em; letter-spacing: 1px\">\n",
       "        <textPath xlink:href=\"#arrow-05c156120c0f48d39d0681caebdf8df9-0-27\" class=\"displacy-label\" startOffset=\"50%\" side=\"left\" fill=\"currentColor\" text-anchor=\"middle\">case</textPath>\n",
       "    </text>\n",
       "    <path class=\"displacy-arrowhead\" d=\"M5320,266.5 L5312,254.5 5328,254.5\" fill=\"currentColor\"/>\n",
       "</g>\n",
       "\n",
       "<g class=\"displacy-arrow\">\n",
       "    <path class=\"displacy-arc\" id=\"arrow-05c156120c0f48d39d0681caebdf8df9-0-28\" stroke-width=\"2px\" d=\"M5145,264.5 C5145,89.5 5470.0,89.5 5470.0,264.5\" fill=\"none\" stroke=\"currentColor\"/>\n",
       "    <text dy=\"1.25em\" style=\"font-size: 0.8em; letter-spacing: 1px\">\n",
       "        <textPath xlink:href=\"#arrow-05c156120c0f48d39d0681caebdf8df9-0-28\" class=\"displacy-label\" startOffset=\"50%\" side=\"left\" fill=\"currentColor\" text-anchor=\"middle\">obl</textPath>\n",
       "    </text>\n",
       "    <path class=\"displacy-arrowhead\" d=\"M5470.0,266.5 L5478.0,254.5 5462.0,254.5\" fill=\"currentColor\"/>\n",
       "</g>\n",
       "\n",
       "<g class=\"displacy-arrow\">\n",
       "    <path class=\"displacy-arc\" id=\"arrow-05c156120c0f48d39d0681caebdf8df9-0-29\" stroke-width=\"2px\" d=\"M5670,264.5 C5670,2.0 6350.0,2.0 6350.0,264.5\" fill=\"none\" stroke=\"currentColor\"/>\n",
       "    <text dy=\"1.25em\" style=\"font-size: 0.8em; letter-spacing: 1px\">\n",
       "        <textPath xlink:href=\"#arrow-05c156120c0f48d39d0681caebdf8df9-0-29\" class=\"displacy-label\" startOffset=\"50%\" side=\"left\" fill=\"currentColor\" text-anchor=\"middle\">advmod</textPath>\n",
       "    </text>\n",
       "    <path class=\"displacy-arrowhead\" d=\"M5670,266.5 L5662,254.5 5678,254.5\" fill=\"currentColor\"/>\n",
       "</g>\n",
       "\n",
       "<g class=\"displacy-arrow\">\n",
       "    <path class=\"displacy-arc\" id=\"arrow-05c156120c0f48d39d0681caebdf8df9-0-30\" stroke-width=\"2px\" d=\"M5845,264.5 C5845,89.5 6345.0,89.5 6345.0,264.5\" fill=\"none\" stroke=\"currentColor\"/>\n",
       "    <text dy=\"1.25em\" style=\"font-size: 0.8em; letter-spacing: 1px\">\n",
       "        <textPath xlink:href=\"#arrow-05c156120c0f48d39d0681caebdf8df9-0-30\" class=\"displacy-label\" startOffset=\"50%\" side=\"left\" fill=\"currentColor\" text-anchor=\"middle\">obl</textPath>\n",
       "    </text>\n",
       "    <path class=\"displacy-arrowhead\" d=\"M5845,266.5 L5837,254.5 5853,254.5\" fill=\"currentColor\"/>\n",
       "</g>\n",
       "\n",
       "<g class=\"displacy-arrow\">\n",
       "    <path class=\"displacy-arc\" id=\"arrow-05c156120c0f48d39d0681caebdf8df9-0-31\" stroke-width=\"2px\" d=\"M6020,264.5 C6020,177.0 6165.0,177.0 6165.0,264.5\" fill=\"none\" stroke=\"currentColor\"/>\n",
       "    <text dy=\"1.25em\" style=\"font-size: 0.8em; letter-spacing: 1px\">\n",
       "        <textPath xlink:href=\"#arrow-05c156120c0f48d39d0681caebdf8df9-0-31\" class=\"displacy-label\" startOffset=\"50%\" side=\"left\" fill=\"currentColor\" text-anchor=\"middle\">case</textPath>\n",
       "    </text>\n",
       "    <path class=\"displacy-arrowhead\" d=\"M6020,266.5 L6012,254.5 6028,254.5\" fill=\"currentColor\"/>\n",
       "</g>\n",
       "\n",
       "<g class=\"displacy-arrow\">\n",
       "    <path class=\"displacy-arc\" id=\"arrow-05c156120c0f48d39d0681caebdf8df9-0-32\" stroke-width=\"2px\" d=\"M6195,264.5 C6195,177.0 6340.0,177.0 6340.0,264.5\" fill=\"none\" stroke=\"currentColor\"/>\n",
       "    <text dy=\"1.25em\" style=\"font-size: 0.8em; letter-spacing: 1px\">\n",
       "        <textPath xlink:href=\"#arrow-05c156120c0f48d39d0681caebdf8df9-0-32\" class=\"displacy-label\" startOffset=\"50%\" side=\"left\" fill=\"currentColor\" text-anchor=\"middle\">obl</textPath>\n",
       "    </text>\n",
       "    <path class=\"displacy-arrowhead\" d=\"M6195,266.5 L6187,254.5 6203,254.5\" fill=\"currentColor\"/>\n",
       "</g>\n",
       "\n",
       "<g class=\"displacy-arrow\">\n",
       "    <path class=\"displacy-arc\" id=\"arrow-05c156120c0f48d39d0681caebdf8df9-0-33\" stroke-width=\"2px\" d=\"M6370,264.5 C6370,177.0 6515.0,177.0 6515.0,264.5\" fill=\"none\" stroke=\"currentColor\"/>\n",
       "    <text dy=\"1.25em\" style=\"font-size: 0.8em; letter-spacing: 1px\">\n",
       "        <textPath xlink:href=\"#arrow-05c156120c0f48d39d0681caebdf8df9-0-33\" class=\"displacy-label\" startOffset=\"50%\" side=\"left\" fill=\"currentColor\" text-anchor=\"middle\">nsubj</textPath>\n",
       "    </text>\n",
       "    <path class=\"displacy-arrowhead\" d=\"M6515.0,266.5 L6523.0,254.5 6507.0,254.5\" fill=\"currentColor\"/>\n",
       "</g>\n",
       "\n",
       "<g class=\"displacy-arrow\">\n",
       "    <path class=\"displacy-arc\" id=\"arrow-05c156120c0f48d39d0681caebdf8df9-0-34\" stroke-width=\"2px\" d=\"M6720,264.5 C6720,177.0 6865.0,177.0 6865.0,264.5\" fill=\"none\" stroke=\"currentColor\"/>\n",
       "    <text dy=\"1.25em\" style=\"font-size: 0.8em; letter-spacing: 1px\">\n",
       "        <textPath xlink:href=\"#arrow-05c156120c0f48d39d0681caebdf8df9-0-34\" class=\"displacy-label\" startOffset=\"50%\" side=\"left\" fill=\"currentColor\" text-anchor=\"middle\">case</textPath>\n",
       "    </text>\n",
       "    <path class=\"displacy-arrowhead\" d=\"M6720,266.5 L6712,254.5 6728,254.5\" fill=\"currentColor\"/>\n",
       "</g>\n",
       "\n",
       "<g class=\"displacy-arrow\">\n",
       "    <path class=\"displacy-arc\" id=\"arrow-05c156120c0f48d39d0681caebdf8df9-0-35\" stroke-width=\"2px\" d=\"M6545,264.5 C6545,89.5 6870.0,89.5 6870.0,264.5\" fill=\"none\" stroke=\"currentColor\"/>\n",
       "    <text dy=\"1.25em\" style=\"font-size: 0.8em; letter-spacing: 1px\">\n",
       "        <textPath xlink:href=\"#arrow-05c156120c0f48d39d0681caebdf8df9-0-35\" class=\"displacy-label\" startOffset=\"50%\" side=\"left\" fill=\"currentColor\" text-anchor=\"middle\">nmod</textPath>\n",
       "    </text>\n",
       "    <path class=\"displacy-arrowhead\" d=\"M6870.0,266.5 L6878.0,254.5 6862.0,254.5\" fill=\"currentColor\"/>\n",
       "</g>\n",
       "\n",
       "<g class=\"displacy-arrow\">\n",
       "    <path class=\"displacy-arc\" id=\"arrow-05c156120c0f48d39d0681caebdf8df9-0-36\" stroke-width=\"2px\" d=\"M7070,264.5 C7070,177.0 7215.0,177.0 7215.0,264.5\" fill=\"none\" stroke=\"currentColor\"/>\n",
       "    <text dy=\"1.25em\" style=\"font-size: 0.8em; letter-spacing: 1px\">\n",
       "        <textPath xlink:href=\"#arrow-05c156120c0f48d39d0681caebdf8df9-0-36\" class=\"displacy-label\" startOffset=\"50%\" side=\"left\" fill=\"currentColor\" text-anchor=\"middle\">cc</textPath>\n",
       "    </text>\n",
       "    <path class=\"displacy-arrowhead\" d=\"M7070,266.5 L7062,254.5 7078,254.5\" fill=\"currentColor\"/>\n",
       "</g>\n",
       "\n",
       "<g class=\"displacy-arrow\">\n",
       "    <path class=\"displacy-arc\" id=\"arrow-05c156120c0f48d39d0681caebdf8df9-0-37\" stroke-width=\"2px\" d=\"M6370,264.5 C6370,2.0 7225.0,2.0 7225.0,264.5\" fill=\"none\" stroke=\"currentColor\"/>\n",
       "    <text dy=\"1.25em\" style=\"font-size: 0.8em; letter-spacing: 1px\">\n",
       "        <textPath xlink:href=\"#arrow-05c156120c0f48d39d0681caebdf8df9-0-37\" class=\"displacy-label\" startOffset=\"50%\" side=\"left\" fill=\"currentColor\" text-anchor=\"middle\">conj</textPath>\n",
       "    </text>\n",
       "    <path class=\"displacy-arrowhead\" d=\"M7225.0,266.5 L7233.0,254.5 7217.0,254.5\" fill=\"currentColor\"/>\n",
       "</g>\n",
       "\n",
       "<g class=\"displacy-arrow\">\n",
       "    <path class=\"displacy-arc\" id=\"arrow-05c156120c0f48d39d0681caebdf8df9-0-38\" stroke-width=\"2px\" d=\"M7420,264.5 C7420,177.0 7565.0,177.0 7565.0,264.5\" fill=\"none\" stroke=\"currentColor\"/>\n",
       "    <text dy=\"1.25em\" style=\"font-size: 0.8em; letter-spacing: 1px\">\n",
       "        <textPath xlink:href=\"#arrow-05c156120c0f48d39d0681caebdf8df9-0-38\" class=\"displacy-label\" startOffset=\"50%\" side=\"left\" fill=\"currentColor\" text-anchor=\"middle\">advmod</textPath>\n",
       "    </text>\n",
       "    <path class=\"displacy-arrowhead\" d=\"M7420,266.5 L7412,254.5 7428,254.5\" fill=\"currentColor\"/>\n",
       "</g>\n",
       "\n",
       "<g class=\"displacy-arrow\">\n",
       "    <path class=\"displacy-arc\" id=\"arrow-05c156120c0f48d39d0681caebdf8df9-0-39\" stroke-width=\"2px\" d=\"M7245,264.5 C7245,89.5 7570.0,89.5 7570.0,264.5\" fill=\"none\" stroke=\"currentColor\"/>\n",
       "    <text dy=\"1.25em\" style=\"font-size: 0.8em; letter-spacing: 1px\">\n",
       "        <textPath xlink:href=\"#arrow-05c156120c0f48d39d0681caebdf8df9-0-39\" class=\"displacy-label\" startOffset=\"50%\" side=\"left\" fill=\"currentColor\" text-anchor=\"middle\">ccomp</textPath>\n",
       "    </text>\n",
       "    <path class=\"displacy-arrowhead\" d=\"M7570.0,266.5 L7578.0,254.5 7562.0,254.5\" fill=\"currentColor\"/>\n",
       "</g>\n",
       "\n",
       "<g class=\"displacy-arrow\">\n",
       "    <path class=\"displacy-arc\" id=\"arrow-05c156120c0f48d39d0681caebdf8df9-0-40\" stroke-width=\"2px\" d=\"M7595,264.5 C7595,177.0 7740.0,177.0 7740.0,264.5\" fill=\"none\" stroke=\"currentColor\"/>\n",
       "    <text dy=\"1.25em\" style=\"font-size: 0.8em; letter-spacing: 1px\">\n",
       "        <textPath xlink:href=\"#arrow-05c156120c0f48d39d0681caebdf8df9-0-40\" class=\"displacy-label\" startOffset=\"50%\" side=\"left\" fill=\"currentColor\" text-anchor=\"middle\">advmod</textPath>\n",
       "    </text>\n",
       "    <path class=\"displacy-arrowhead\" d=\"M7740.0,266.5 L7748.0,254.5 7732.0,254.5\" fill=\"currentColor\"/>\n",
       "</g>\n",
       "\n",
       "<g class=\"displacy-arrow\">\n",
       "    <path class=\"displacy-arc\" id=\"arrow-05c156120c0f48d39d0681caebdf8df9-0-41\" stroke-width=\"2px\" d=\"M7595,264.5 C7595,89.5 7920.0,89.5 7920.0,264.5\" fill=\"none\" stroke=\"currentColor\"/>\n",
       "    <text dy=\"1.25em\" style=\"font-size: 0.8em; letter-spacing: 1px\">\n",
       "        <textPath xlink:href=\"#arrow-05c156120c0f48d39d0681caebdf8df9-0-41\" class=\"displacy-label\" startOffset=\"50%\" side=\"left\" fill=\"currentColor\" text-anchor=\"middle\">nsubj</textPath>\n",
       "    </text>\n",
       "    <path class=\"displacy-arrowhead\" d=\"M7920.0,266.5 L7928.0,254.5 7912.0,254.5\" fill=\"currentColor\"/>\n",
       "</g>\n",
       "\n",
       "<g class=\"displacy-arrow\">\n",
       "    <path class=\"displacy-arc\" id=\"arrow-05c156120c0f48d39d0681caebdf8df9-0-42\" stroke-width=\"2px\" d=\"M8120,264.5 C8120,89.5 8445.0,89.5 8445.0,264.5\" fill=\"none\" stroke=\"currentColor\"/>\n",
       "    <text dy=\"1.25em\" style=\"font-size: 0.8em; letter-spacing: 1px\">\n",
       "        <textPath xlink:href=\"#arrow-05c156120c0f48d39d0681caebdf8df9-0-42\" class=\"displacy-label\" startOffset=\"50%\" side=\"left\" fill=\"currentColor\" text-anchor=\"middle\">det</textPath>\n",
       "    </text>\n",
       "    <path class=\"displacy-arrowhead\" d=\"M8120,266.5 L8112,254.5 8128,254.5\" fill=\"currentColor\"/>\n",
       "</g>\n",
       "\n",
       "<g class=\"displacy-arrow\">\n",
       "    <path class=\"displacy-arc\" id=\"arrow-05c156120c0f48d39d0681caebdf8df9-0-43\" stroke-width=\"2px\" d=\"M8295,264.5 C8295,177.0 8440.0,177.0 8440.0,264.5\" fill=\"none\" stroke=\"currentColor\"/>\n",
       "    <text dy=\"1.25em\" style=\"font-size: 0.8em; letter-spacing: 1px\">\n",
       "        <textPath xlink:href=\"#arrow-05c156120c0f48d39d0681caebdf8df9-0-43\" class=\"displacy-label\" startOffset=\"50%\" side=\"left\" fill=\"currentColor\" text-anchor=\"middle\">amod</textPath>\n",
       "    </text>\n",
       "    <path class=\"displacy-arrowhead\" d=\"M8295,266.5 L8287,254.5 8303,254.5\" fill=\"currentColor\"/>\n",
       "</g>\n",
       "\n",
       "<g class=\"displacy-arrow\">\n",
       "    <path class=\"displacy-arc\" id=\"arrow-05c156120c0f48d39d0681caebdf8df9-0-44\" stroke-width=\"2px\" d=\"M7595,264.5 C7595,2.0 8450.0,2.0 8450.0,264.5\" fill=\"none\" stroke=\"currentColor\"/>\n",
       "    <text dy=\"1.25em\" style=\"font-size: 0.8em; letter-spacing: 1px\">\n",
       "        <textPath xlink:href=\"#arrow-05c156120c0f48d39d0681caebdf8df9-0-44\" class=\"displacy-label\" startOffset=\"50%\" side=\"left\" fill=\"currentColor\" text-anchor=\"middle\">obj</textPath>\n",
       "    </text>\n",
       "    <path class=\"displacy-arrowhead\" d=\"M8450.0,266.5 L8458.0,254.5 8442.0,254.5\" fill=\"currentColor\"/>\n",
       "</g>\n",
       "</svg></span>"
      ],
      "text/plain": [
       "<IPython.core.display.HTML object>"
      ]
     },
     "metadata": {},
     "output_type": "display_data"
    }
   ],
   "source": [
    "displacy.render(spacy_text1, style='dep', jupyter=True)"
   ]
  },
  {
   "cell_type": "code",
   "execution_count": 74,
   "metadata": {},
   "outputs": [
    {
     "name": "stdout",
     "output_type": "stream",
     "text": [
      "adposition\n"
     ]
    }
   ],
   "source": [
    "print(spacy.explain(\"ADP\"))"
   ]
  },
  {
   "cell_type": "code",
   "execution_count": 76,
   "metadata": {},
   "outputs": [],
   "source": [
    "# Natasha\n",
    "from natasha import NewsSyntaxParser"
   ]
  },
  {
   "cell_type": "code",
   "execution_count": 79,
   "metadata": {},
   "outputs": [
    {
     "name": "stdout",
     "output_type": "stream",
     "text": [
      "      ┌► В      case\n",
      "  ┌►┌─└─ парке  obl\n",
      "  │ │ ┌► на     case\n",
      "  │ └►└─ краю   nmod\n",
      "  │ └──► города nmod\n",
      "┌─└─┌─── растут \n",
      "│   │ ┌► старые amod\n",
      "│ ┌─└►└─ дубы   nsubj\n",
      "│ │   ┌► и      cc\n",
      "│ └──►└─ ясени  conj\n",
      "└──────► .      punct\n"
     ]
    }
   ],
   "source": [
    "emb = NewsEmbedding()\n",
    "syntax_parser = NewsSyntaxParser(emb)\n",
    "n_doc1.parse_syntax(syntax_parser)\n",
    "n_doc1.sents[0].syntax.print()"
   ]
  },
  {
   "cell_type": "code",
   "execution_count": 80,
   "metadata": {},
   "outputs": [
    {
     "name": "stdout",
     "output_type": "stream",
     "text": [
      "        ┌► Каждый   det\n",
      "      ┌►└─ вечер    obl\n",
      "      │ ┌► туда     advmod\n",
      "┌───┌─└─└─ приходит \n",
      "│   │   ┌► пожилая  amod\n",
      "│ ┌─└──►└─ женщина  nsubj\n",
      "│ │   ┌──► с        case\n",
      "│ │   │ ┌► белой    amod\n",
      "│ └──►└─└─ собакой  nmod\n",
      "└────────► .        punct\n"
     ]
    }
   ],
   "source": [
    "n_doc1.parse_syntax(syntax_parser)\n",
    "n_doc1.sents[1].syntax.print()"
   ]
  },
  {
   "cell_type": "markdown",
   "metadata": {},
   "source": [
    "### Итог\n",
    "Продемонстрировано использование NLTK, Spacy и Natasha."
   ]
  },
  {
   "cell_type": "code",
   "execution_count": null,
   "metadata": {},
   "outputs": [],
   "source": []
  }
 ],
 "metadata": {
  "kernelspec": {
   "display_name": "Python 3 (ipykernel)",
   "language": "python",
   "name": "python3"
  },
  "language_info": {
   "codemirror_mode": {
    "name": "ipython",
    "version": 3
   },
   "file_extension": ".py",
   "mimetype": "text/x-python",
   "name": "python",
   "nbconvert_exporter": "python",
   "pygments_lexer": "ipython3",
   "version": "3.11.9"
  }
 },
 "nbformat": 4,
 "nbformat_minor": 2
}

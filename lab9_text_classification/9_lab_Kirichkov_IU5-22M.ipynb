{
 "cells": [
  {
   "cell_type": "markdown",
   "metadata": {},
   "source": [
    "### Задание:\n",
    "Для произвольного набора данных, предназначенного для классификации текстов, решите задачу классификации текста двумя способами:\n",
    "\n",
    "- Способ 1. На основе CountVectorizer или TfidfVectorizer.\n",
    "- Способ 2. На основе моделей word2vec или Glove или fastText.\n",
    "- Сравните качество полученных моделей."
   ]
  },
  {
   "cell_type": "code",
   "execution_count": 1,
   "metadata": {},
   "outputs": [],
   "source": [
    "import numpy as np\n",
    "import pandas as pd\n",
    "import gensim\n",
    "from sklearn.feature_extraction.text import CountVectorizer, TfidfVectorizer\n",
    "from sklearn.ensemble import RandomForestClassifier, GradientBoostingClassifier\n",
    "from sklearn.linear_model import LogisticRegression\n",
    "from sklearn.svm import SVC, LinearSVC\n",
    "from sklearn.neighbors import KNeighborsClassifier\n",
    "from sklearn.metrics import accuracy_score\n",
    "import time\n",
    "import gensim.downloader as api\n",
    "from tqdm import tqdm\n",
    "import sys"
   ]
  },
  {
   "cell_type": "code",
   "execution_count": 2,
   "metadata": {},
   "outputs": [],
   "source": [
    "# Загрузка данных\n",
    "train_data = pd.read_csv('data/Corona_NLP_train.csv', encoding='latin1')\n",
    "test_data = pd.read_csv('data/Corona_NLP_test.csv', encoding='latin1')"
   ]
  },
  {
   "cell_type": "code",
   "execution_count": 3,
   "metadata": {},
   "outputs": [
    {
     "data": {
      "text/plain": [
       "(41157, 6)"
      ]
     },
     "execution_count": 3,
     "metadata": {},
     "output_type": "execute_result"
    }
   ],
   "source": [
    "train_data.shape"
   ]
  },
  {
   "cell_type": "code",
   "execution_count": 4,
   "metadata": {},
   "outputs": [
    {
     "data": {
      "text/html": [
       "<div>\n",
       "<style scoped>\n",
       "    .dataframe tbody tr th:only-of-type {\n",
       "        vertical-align: middle;\n",
       "    }\n",
       "\n",
       "    .dataframe tbody tr th {\n",
       "        vertical-align: top;\n",
       "    }\n",
       "\n",
       "    .dataframe thead th {\n",
       "        text-align: right;\n",
       "    }\n",
       "</style>\n",
       "<table border=\"1\" class=\"dataframe\">\n",
       "  <thead>\n",
       "    <tr style=\"text-align: right;\">\n",
       "      <th></th>\n",
       "      <th>UserName</th>\n",
       "      <th>ScreenName</th>\n",
       "      <th>Location</th>\n",
       "      <th>TweetAt</th>\n",
       "      <th>OriginalTweet</th>\n",
       "      <th>Sentiment</th>\n",
       "    </tr>\n",
       "  </thead>\n",
       "  <tbody>\n",
       "    <tr>\n",
       "      <th>0</th>\n",
       "      <td>3799</td>\n",
       "      <td>48751</td>\n",
       "      <td>London</td>\n",
       "      <td>16-03-2020</td>\n",
       "      <td>@MeNyrbie @Phil_Gahan @Chrisitv https://t.co/i...</td>\n",
       "      <td>Neutral</td>\n",
       "    </tr>\n",
       "    <tr>\n",
       "      <th>1</th>\n",
       "      <td>3800</td>\n",
       "      <td>48752</td>\n",
       "      <td>UK</td>\n",
       "      <td>16-03-2020</td>\n",
       "      <td>advice Talk to your neighbours family to excha...</td>\n",
       "      <td>Positive</td>\n",
       "    </tr>\n",
       "    <tr>\n",
       "      <th>2</th>\n",
       "      <td>3801</td>\n",
       "      <td>48753</td>\n",
       "      <td>Vagabonds</td>\n",
       "      <td>16-03-2020</td>\n",
       "      <td>Coronavirus Australia: Woolworths to give elde...</td>\n",
       "      <td>Positive</td>\n",
       "    </tr>\n",
       "    <tr>\n",
       "      <th>3</th>\n",
       "      <td>3802</td>\n",
       "      <td>48754</td>\n",
       "      <td>NaN</td>\n",
       "      <td>16-03-2020</td>\n",
       "      <td>My food stock is not the only one which is emp...</td>\n",
       "      <td>Positive</td>\n",
       "    </tr>\n",
       "    <tr>\n",
       "      <th>4</th>\n",
       "      <td>3803</td>\n",
       "      <td>48755</td>\n",
       "      <td>NaN</td>\n",
       "      <td>16-03-2020</td>\n",
       "      <td>Me, ready to go at supermarket during the #COV...</td>\n",
       "      <td>Extremely Negative</td>\n",
       "    </tr>\n",
       "  </tbody>\n",
       "</table>\n",
       "</div>"
      ],
      "text/plain": [
       "   UserName  ScreenName   Location     TweetAt  \\\n",
       "0      3799       48751     London  16-03-2020   \n",
       "1      3800       48752         UK  16-03-2020   \n",
       "2      3801       48753  Vagabonds  16-03-2020   \n",
       "3      3802       48754        NaN  16-03-2020   \n",
       "4      3803       48755        NaN  16-03-2020   \n",
       "\n",
       "                                       OriginalTweet           Sentiment  \n",
       "0  @MeNyrbie @Phil_Gahan @Chrisitv https://t.co/i...             Neutral  \n",
       "1  advice Talk to your neighbours family to excha...            Positive  \n",
       "2  Coronavirus Australia: Woolworths to give elde...            Positive  \n",
       "3  My food stock is not the only one which is emp...            Positive  \n",
       "4  Me, ready to go at supermarket during the #COV...  Extremely Negative  "
      ]
     },
     "execution_count": 4,
     "metadata": {},
     "output_type": "execute_result"
    }
   ],
   "source": [
    "train_data.head()"
   ]
  },
  {
   "cell_type": "code",
   "execution_count": 5,
   "metadata": {},
   "outputs": [
    {
     "data": {
      "text/plain": [
       "(3798, 6)"
      ]
     },
     "execution_count": 5,
     "metadata": {},
     "output_type": "execute_result"
    }
   ],
   "source": [
    "test_data.shape"
   ]
  },
  {
   "cell_type": "code",
   "execution_count": 6,
   "metadata": {},
   "outputs": [
    {
     "data": {
      "text/html": [
       "<div>\n",
       "<style scoped>\n",
       "    .dataframe tbody tr th:only-of-type {\n",
       "        vertical-align: middle;\n",
       "    }\n",
       "\n",
       "    .dataframe tbody tr th {\n",
       "        vertical-align: top;\n",
       "    }\n",
       "\n",
       "    .dataframe thead th {\n",
       "        text-align: right;\n",
       "    }\n",
       "</style>\n",
       "<table border=\"1\" class=\"dataframe\">\n",
       "  <thead>\n",
       "    <tr style=\"text-align: right;\">\n",
       "      <th></th>\n",
       "      <th>UserName</th>\n",
       "      <th>ScreenName</th>\n",
       "      <th>Location</th>\n",
       "      <th>TweetAt</th>\n",
       "      <th>OriginalTweet</th>\n",
       "      <th>Sentiment</th>\n",
       "    </tr>\n",
       "  </thead>\n",
       "  <tbody>\n",
       "    <tr>\n",
       "      <th>0</th>\n",
       "      <td>1</td>\n",
       "      <td>44953</td>\n",
       "      <td>NYC</td>\n",
       "      <td>02-03-2020</td>\n",
       "      <td>TRENDING: New Yorkers encounter empty supermar...</td>\n",
       "      <td>Extremely Negative</td>\n",
       "    </tr>\n",
       "    <tr>\n",
       "      <th>1</th>\n",
       "      <td>2</td>\n",
       "      <td>44954</td>\n",
       "      <td>Seattle, WA</td>\n",
       "      <td>02-03-2020</td>\n",
       "      <td>When I couldn't find hand sanitizer at Fred Me...</td>\n",
       "      <td>Positive</td>\n",
       "    </tr>\n",
       "    <tr>\n",
       "      <th>2</th>\n",
       "      <td>3</td>\n",
       "      <td>44955</td>\n",
       "      <td>NaN</td>\n",
       "      <td>02-03-2020</td>\n",
       "      <td>Find out how you can protect yourself and love...</td>\n",
       "      <td>Extremely Positive</td>\n",
       "    </tr>\n",
       "    <tr>\n",
       "      <th>3</th>\n",
       "      <td>4</td>\n",
       "      <td>44956</td>\n",
       "      <td>Chicagoland</td>\n",
       "      <td>02-03-2020</td>\n",
       "      <td>#Panic buying hits #NewYork City as anxious sh...</td>\n",
       "      <td>Negative</td>\n",
       "    </tr>\n",
       "    <tr>\n",
       "      <th>4</th>\n",
       "      <td>5</td>\n",
       "      <td>44957</td>\n",
       "      <td>Melbourne, Victoria</td>\n",
       "      <td>03-03-2020</td>\n",
       "      <td>#toiletpaper #dunnypaper #coronavirus #coronav...</td>\n",
       "      <td>Neutral</td>\n",
       "    </tr>\n",
       "  </tbody>\n",
       "</table>\n",
       "</div>"
      ],
      "text/plain": [
       "   UserName  ScreenName             Location     TweetAt  \\\n",
       "0         1       44953                  NYC  02-03-2020   \n",
       "1         2       44954          Seattle, WA  02-03-2020   \n",
       "2         3       44955                  NaN  02-03-2020   \n",
       "3         4       44956          Chicagoland  02-03-2020   \n",
       "4         5       44957  Melbourne, Victoria  03-03-2020   \n",
       "\n",
       "                                       OriginalTweet           Sentiment  \n",
       "0  TRENDING: New Yorkers encounter empty supermar...  Extremely Negative  \n",
       "1  When I couldn't find hand sanitizer at Fred Me...            Positive  \n",
       "2  Find out how you can protect yourself and love...  Extremely Positive  \n",
       "3  #Panic buying hits #NewYork City as anxious sh...            Negative  \n",
       "4  #toiletpaper #dunnypaper #coronavirus #coronav...             Neutral  "
      ]
     },
     "execution_count": 6,
     "metadata": {},
     "output_type": "execute_result"
    }
   ],
   "source": [
    "test_data.head()"
   ]
  },
  {
   "cell_type": "code",
   "execution_count": 7,
   "metadata": {},
   "outputs": [],
   "source": [
    "X_train = train_data['OriginalTweet']\n",
    "y_train = train_data['Sentiment']\n",
    "\n",
    "X_test = test_data['OriginalTweet']\n",
    "y_test = test_data['Sentiment']"
   ]
  },
  {
   "cell_type": "code",
   "execution_count": 8,
   "metadata": {},
   "outputs": [],
   "source": [
    "def check_missing(data, name):\n",
    "    missing = data.isnull().sum()\n",
    "    print(f'У {name} {missing} пропущенных строк')"
   ]
  },
  {
   "cell_type": "code",
   "execution_count": 9,
   "metadata": {},
   "outputs": [
    {
     "name": "stdout",
     "output_type": "stream",
     "text": [
      "У train_data UserName            0\n",
      "ScreenName          0\n",
      "Location         8590\n",
      "TweetAt             0\n",
      "OriginalTweet       0\n",
      "Sentiment           0\n",
      "dtype: int64 пропущенных строк\n",
      "У test_data UserName           0\n",
      "ScreenName         0\n",
      "Location         834\n",
      "TweetAt            0\n",
      "OriginalTweet      0\n",
      "Sentiment          0\n",
      "dtype: int64 пропущенных строк\n",
      "У X_train 0 пропущенных строк\n",
      "У X_test 0 пропущенных строк\n",
      "У y_train 0 пропущенных строк\n",
      "У y_test 0 пропущенных строк\n"
     ]
    }
   ],
   "source": [
    "check_missing(train_data, 'train_data')\n",
    "check_missing(test_data, 'test_data')\n",
    "check_missing(X_train, 'X_train')\n",
    "check_missing(X_test, 'X_test')\n",
    "check_missing(y_train, 'y_train')\n",
    "check_missing(y_test, 'y_test')"
   ]
  },
  {
   "cell_type": "code",
   "execution_count": 10,
   "metadata": {},
   "outputs": [],
   "source": [
    "# Векторизация с помощью CountVectorizer\n",
    "count_vect = CountVectorizer() \n",
    "X_train_counts = count_vect.fit_transform(X_train)\n",
    "X_test_counts = count_vect.transform(X_test)\n",
    "\n",
    "# Векторизация с помощью TfidfVectorizer\n",
    "tfidf_vect = TfidfVectorizer()\n",
    "X_train_tfidf = tfidf_vect.fit_transform(X_train)\n",
    "X_test_tfidf = tfidf_vect.transform(X_test)"
   ]
  },
  {
   "cell_type": "code",
   "execution_count": 11,
   "metadata": {},
   "outputs": [],
   "source": [
    "# Загрузка предобученных моделей\n",
    "word2vec_model = api.load('word2vec-google-news-300')\n",
    "glove_model = api.load('glove-twitter-200')\n",
    "fasttext_model = api.load('fasttext-wiki-news-subwords-300')"
   ]
  },
  {
   "cell_type": "code",
   "execution_count": 12,
   "metadata": {},
   "outputs": [],
   "source": [
    "# Функция для усреднения векторов слов в тексте\n",
    "def vectorize_text(text, model):\n",
    "    words = text.split()\n",
    "    vectors = [model[word] for word in words if word in model]\n",
    "    if len(vectors) == 0:\n",
    "        return np.zeros(model.vector_size)\n",
    "    return np.mean(vectors, axis=0)\n",
    "\n",
    "# Векторизация данных\n",
    "def vectorize_dataset(dataset, model, desc=\"Vectorizing\"):\n",
    "    return np.array([vectorize_text(text, model) for text in tqdm(dataset, desc=desc)])"
   ]
  },
  {
   "cell_type": "code",
   "execution_count": 13,
   "metadata": {},
   "outputs": [
    {
     "name": "stderr",
     "output_type": "stream",
     "text": [
      "Vectorizing word2vec: 100%|██████████████████████████████████████████████████████████████████████████████████████████████████████████████████████████████████████████████████████████████████| 41157/41157 [00:01<00:00, 30472.68it/s]\n",
      "Vectorizing word2vec: 100%|████████████████████████████████████████████████████████████████████████████████████████████████████████████████████████████████████████████████████████████████████| 3798/3798 [00:00<00:00, 31254.35it/s]\n",
      "Vectorizing Glove: 100%|█████████████████████████████████████████████████████████████████████████████████████████████████████████████████████████████████████████████████████████████████████| 41157/41157 [00:01<00:00, 34204.91it/s]\n",
      "Vectorizing Glove: 100%|███████████████████████████████████████████████████████████████████████████████████████████████████████████████████████████████████████████████████████████████████████| 3798/3798 [00:00<00:00, 33523.72it/s]\n",
      "Vectorizing fastText: 100%|██████████████████████████████████████████████████████████████████████████████████████████████████████████████████████████████████████████████████████████████████| 41157/41157 [00:01<00:00, 28920.52it/s]\n",
      "Vectorizing fastText: 100%|████████████████████████████████████████████████████████████████████████████████████████████████████████████████████████████████████████████████████████████████████| 3798/3798 [00:00<00:00, 29443.94it/s]\n"
     ]
    }
   ],
   "source": [
    "X_train_w2v = vectorize_dataset(X_train, word2vec_model, desc=\"Vectorizing word2vec\")\n",
    "X_test_w2v = vectorize_dataset(X_test, word2vec_model, desc=\"Vectorizing word2vec\")\n",
    "\n",
    "X_train_glove = vectorize_dataset(X_train, glove_model, desc=\"Vectorizing Glove\")\n",
    "X_test_glove = vectorize_dataset(X_test, glove_model, desc=\"Vectorizing Glove\")\n",
    "\n",
    "X_train_fasttext = vectorize_dataset(X_train, fasttext_model, desc=\"Vectorizing fastText\")\n",
    "X_test_fasttext = vectorize_dataset(X_test, fasttext_model, desc=\"Vectorizing fastText\")"
   ]
  },
  {
   "cell_type": "code",
   "execution_count": 14,
   "metadata": {},
   "outputs": [],
   "source": [
    "# Функции для оценки точности для каждой метки\n",
    "def accuracy_score_for_classes(y_true, y_pred):\n",
    "    d = {'t': y_true, 'p': y_pred}\n",
    "    df = pd.DataFrame(data=d)\n",
    "    classes = np.unique(y_true)\n",
    "    res = dict()\n",
    "    for c in classes:\n",
    "        temp_data_flt = df[df['t'] == c]\n",
    "        temp_acc = accuracy_score(temp_data_flt['t'].values, temp_data_flt['p'].values)\n",
    "        res[c] = temp_acc\n",
    "    return res"
   ]
  },
  {
   "cell_type": "code",
   "execution_count": 15,
   "metadata": {},
   "outputs": [],
   "source": [
    "def print_accuracy_score_for_classes(y_true, y_pred):\n",
    "    accs = accuracy_score_for_classes(y_true, y_pred)\n",
    "    if len(accs) > 0:\n",
    "        print('Метка \\t Accuracy')\n",
    "    for i in accs:\n",
    "        print('{} \\t {}'.format(i, accs[i]))"
   ]
  },
  {
   "cell_type": "code",
   "execution_count": 16,
   "metadata": {},
   "outputs": [],
   "source": [
    "# Оценка моделей\n",
    "def evaluate_model(vectorizer_name, vectorizer_train, vectorizer_test, model, model_name):\n",
    "    start_time = time.time()\n",
    "    obj_model = model\n",
    "    obj_model.fit(vectorizer_train, y_train)\n",
    "    predictions = obj_model.predict(vectorizer_test)\n",
    "    \n",
    "    accuracy = accuracy_score(y_test, predictions)\n",
    "    duration = (time.time() - start_time) / 60\n",
    "    \n",
    "    print(f'Точность: {accuracy:.4f}, время обучения классификатора: {duration:.2f} мин. ({vectorizer_name} + {model_name})')\n",
    "    print_accuracy_score_for_classes(y_test, predictions)"
   ]
  },
  {
   "cell_type": "code",
   "execution_count": 17,
   "metadata": {},
   "outputs": [],
   "source": [
    "classifiers = {\n",
    "    \"RandomForestClassifier\": RandomForestClassifier(),\n",
    "    \"LinearSVC\": LinearSVC(max_iter=10000),\n",
    "    \"LogisticRegression\": LogisticRegression(max_iter=10000)\n",
    "}\n",
    "\n",
    "vectorizers = {\n",
    "    \"CountVectorizer\": (X_train_counts, X_test_counts),\n",
    "    \"TfidfVectorizer\": (X_train_tfidf, X_test_tfidf),\n",
    "    \"word2vec\": (X_train_w2v, X_test_w2v),\n",
    "    \"glove\": (X_train_glove, X_test_glove),\n",
    "    \"fastText\": (X_train_fasttext, X_test_fasttext)\n",
    "}"
   ]
  },
  {
   "cell_type": "code",
   "execution_count": 18,
   "metadata": {
    "scrolled": false
   },
   "outputs": [
    {
     "name": "stdout",
     "output_type": "stream",
     "text": [
      "Точность: 0.4513, время обучения классификатора: 1.26 мин. (CountVectorizer + RandomForestClassifier)\n",
      "Метка \t Accuracy\n",
      "Extremely Negative \t 0.20270270270270271\n",
      "Extremely Positive \t 0.24874791318864775\n",
      "Negative \t 0.46397694524495675\n",
      "Neutral \t 0.6252019386106623\n",
      "Positive \t 0.6071805702217529\n",
      "Точность: 0.5284, время обучения классификатора: 0.32 мин. (CountVectorizer + LinearSVC)\n",
      "Метка \t Accuracy\n",
      "Extremely Negative \t 0.589527027027027\n",
      "Extremely Positive \t 0.6260434056761269\n",
      "Negative \t 0.43419788664745435\n",
      "Neutral \t 0.6348949919224556\n",
      "Positive \t 0.4625131995776135\n",
      "Точность: 0.6087, время обучения классификатора: 0.49 мин. (CountVectorizer + LogisticRegression)\n",
      "Метка \t Accuracy\n",
      "Extremely Negative \t 0.5472972972972973\n",
      "Extremely Positive \t 0.6126878130217028\n",
      "Negative \t 0.5629202689721422\n",
      "Neutral \t 0.715670436187399\n",
      "Positive \t 0.6251319957761352\n",
      "Точность: 0.4379, время обучения классификатора: 1.09 мин. (TfidfVectorizer + RandomForestClassifier)\n",
      "Метка \t Accuracy\n",
      "Extremely Negative \t 0.25844594594594594\n",
      "Extremely Positive \t 0.2637729549248748\n",
      "Negative \t 0.43611911623439004\n",
      "Neutral \t 0.6009693053311793\n",
      "Positive \t 0.5554382259767687\n",
      "Точность: 0.5592, время обучения классификатора: 0.02 мин. (TfidfVectorizer + LinearSVC)\n",
      "Метка \t Accuracy\n",
      "Extremely Negative \t 0.6182432432432432\n",
      "Extremely Positive \t 0.6460767946577629\n",
      "Negative \t 0.4697406340057637\n",
      "Neutral \t 0.6284329563812601\n",
      "Positive \t 0.5205913410770855\n",
      "Точность: 0.5658, время обучения классификатора: 0.20 мин. (TfidfVectorizer + LogisticRegression)\n",
      "Метка \t Accuracy\n",
      "Extremely Negative \t 0.4814189189189189\n",
      "Extremely Positive \t 0.5208681135225376\n",
      "Negative \t 0.5379442843419788\n",
      "Neutral \t 0.6429725363489499\n",
      "Positive \t 0.6272439281942978\n",
      "Точность: 0.3855, время обучения классификатора: 0.95 мин. (word2vec + RandomForestClassifier)\n",
      "Метка \t Accuracy\n",
      "Extremely Negative \t 0.22128378378378377\n",
      "Extremely Positive \t 0.2888146911519199\n",
      "Negative \t 0.3871277617675312\n",
      "Neutral \t 0.3651050080775444\n",
      "Positive \t 0.5607180570221753\n",
      "Точность: 0.4292, время обучения классификатора: 0.78 мин. (word2vec + LinearSVC)\n",
      "Метка \t Accuracy\n",
      "Extremely Negative \t 0.3547297297297297\n",
      "Extremely Positive \t 0.4040066777963272\n",
      "Negative \t 0.3919308357348703\n",
      "Neutral \t 0.568659127625202\n",
      "Positive \t 0.44139387539598735\n",
      "Точность: 0.4371, время обучения классификатора: 0.15 мин. (word2vec + LogisticRegression)\n",
      "Метка \t Accuracy\n",
      "Extremely Negative \t 0.28209459459459457\n",
      "Extremely Positive \t 0.32387312186978295\n",
      "Negative \t 0.4668587896253602\n",
      "Neutral \t 0.5153473344103393\n",
      "Positive \t 0.5216473072861668\n",
      "Точность: 0.3576, время обучения классификатора: 0.81 мин. (glove + RandomForestClassifier)\n",
      "Метка \t Accuracy\n",
      "Extremely Negative \t 0.17567567567567569\n",
      "Extremely Positive \t 0.22370617696160267\n",
      "Negative \t 0.37175792507204614\n",
      "Neutral \t 0.37964458804523427\n",
      "Positive \t 0.5258711721224921\n",
      "Точность: 0.3902, время обучения классификатора: 4.27 мин. (glove + LinearSVC)\n",
      "Метка \t Accuracy\n",
      "Extremely Negative \t 0.23648648648648649\n",
      "Extremely Positive \t 0.2888146911519199\n",
      "Negative \t 0.41786743515850144\n",
      "Neutral \t 0.4620355411954766\n",
      "Positive \t 0.4730728616684266\n",
      "Точность: 0.4034, время обучения классификатора: 0.21 мин. (glove + LogisticRegression)\n",
      "Метка \t Accuracy\n",
      "Extremely Negative \t 0.24493243243243243\n",
      "Extremely Positive \t 0.2654424040066778\n",
      "Negative \t 0.4447646493756004\n",
      "Neutral \t 0.44749596122778673\n",
      "Positive \t 0.515311510031679\n",
      "Точность: 0.3768, время обучения классификатора: 0.98 мин. (fastText + RandomForestClassifier)\n",
      "Метка \t Accuracy\n",
      "Extremely Negative \t 0.22466216216216217\n",
      "Extremely Positive \t 0.2387312186978297\n",
      "Negative \t 0.3611911623439001\n",
      "Neutral \t 0.42487883683360256\n",
      "Positive \t 0.5448785638859557\n",
      "Точность: 0.4323, время обучения классификатора: 0.34 мин. (fastText + LinearSVC)\n",
      "Метка \t Accuracy\n",
      "Extremely Negative \t 0.3310810810810811\n",
      "Extremely Positive \t 0.3555926544240401\n",
      "Negative \t 0.4111431316042267\n",
      "Neutral \t 0.5573505654281099\n",
      "Positive \t 0.4857444561774023\n",
      "Точность: 0.4160, время обучения классификатора: 0.19 мин. (fastText + LogisticRegression)\n",
      "Метка \t Accuracy\n",
      "Extremely Negative \t 0.19087837837837837\n",
      "Extremely Positive \t 0.2003338898163606\n",
      "Negative \t 0.48222862632084534\n",
      "Neutral \t 0.4588045234248788\n",
      "Positive \t 0.5923970432946146\n"
     ]
    }
   ],
   "source": [
    "for vec_name, (train_vec, test_vec) in vectorizers.items():\n",
    "    for clf_name, clf in classifiers.items():\n",
    "        evaluate_model(vec_name, train_vec, test_vec, clf, clf_name)"
   ]
  },
  {
   "cell_type": "markdown",
   "metadata": {},
   "source": [
    "### Итог\n",
    "Наилучший результат получен с использованием CountVectorizer и LogisticRegression."
   ]
  },
  {
   "cell_type": "code",
   "execution_count": null,
   "metadata": {},
   "outputs": [],
   "source": []
  }
 ],
 "metadata": {
  "kernelspec": {
   "display_name": "Python 3 (ipykernel)",
   "language": "python",
   "name": "python3"
  },
  "language_info": {
   "codemirror_mode": {
    "name": "ipython",
    "version": 3
   },
   "file_extension": ".py",
   "mimetype": "text/x-python",
   "name": "python",
   "nbconvert_exporter": "python",
   "pygments_lexer": "ipython3",
   "version": "3.11.9"
  }
 },
 "nbformat": 4,
 "nbformat_minor": 2
}

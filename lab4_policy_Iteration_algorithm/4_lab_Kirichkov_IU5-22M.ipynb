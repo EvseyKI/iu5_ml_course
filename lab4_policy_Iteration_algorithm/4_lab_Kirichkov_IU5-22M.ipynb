{
 "cells": [
  {
   "cell_type": "markdown",
   "metadata": {},
   "source": [
    "### Задание:\n",
    "На основе рассмотренного на лекции примера реализуйте алгоритм Policy Iteration для любой среды обучения с подкреплением (кроме рассмотренной на лекции среды Toy Text / Frozen Lake) из библиотеки Gym (или аналогичной библиотеки)."
   ]
  },
  {
   "cell_type": "markdown",
   "metadata": {},
   "source": [
    "Программа предназначена для демонстрации работы агента, обученного с использованием алгоритма итерации по стратегиям (Policy Iteration) в среде CliffWalking из библиотеки OpenAI Gym. Среда CliffWalking представляет собой сетку размером 4x12, где агент должен пройти от начальной клетки до целевой, избегая падения с обрыва."
   ]
  },
  {
   "cell_type": "code",
   "execution_count": 1,
   "metadata": {},
   "outputs": [
    {
     "name": "stdout",
     "output_type": "stream",
     "text": [
      "Requirement already satisfied: gym in /Users/evseykirichkov/anaconda3/lib/python3.11/site-packages (0.26.2)\n",
      "Requirement already satisfied: numpy>=1.18.0 in /Users/evseykirichkov/anaconda3/lib/python3.11/site-packages (from gym) (1.26.4)\n",
      "Requirement already satisfied: cloudpickle>=1.2.0 in /Users/evseykirichkov/anaconda3/lib/python3.11/site-packages (from gym) (2.2.1)\n",
      "Requirement already satisfied: gym-notices>=0.0.4 in /Users/evseykirichkov/anaconda3/lib/python3.11/site-packages (from gym) (0.0.8)\n",
      "Requirement already satisfied: pygame in /Users/evseykirichkov/anaconda3/lib/python3.11/site-packages (2.5.2)\n"
     ]
    }
   ],
   "source": [
    "! pip install gym\n",
    "! pip install pygame"
   ]
  },
  {
   "cell_type": "code",
   "execution_count": 7,
   "metadata": {},
   "outputs": [],
   "source": [
    "import gym\n",
    "import numpy as np\n",
    "import matplotlib.pyplot as plt\n",
    "from pprint import pprint\n",
    "from IPython.display import Image"
   ]
  },
  {
   "cell_type": "code",
   "execution_count": 3,
   "metadata": {},
   "outputs": [],
   "source": [
    "class PolicyIterationAgent:\n",
    "    '''\n",
    "    Класс, эмулирующий работу агента\n",
    "    '''\n",
    "\n",
    "    def __init__(self, env):\n",
    "        self.env = env\n",
    "        # Пространство состояний\n",
    "        self.observation_dim = 48\n",
    "        # Массив действий в соответствии с документацией\n",
    "        # https://www.gymlibrary.dev/environments/toy_text/cliff_walking/\n",
    "        self.actions_variants = np.array([0, 1, 2, 3])\n",
    "        # Задание стратегии (политики)\n",
    "        # Карта 4x12 и 4 возможных действия\n",
    "        self.policy_probs = np.full((self.observation_dim, len(self.actions_variants)), 0.25)\n",
    "        # Начальные значения для v(s)\n",
    "        self.state_values = np.zeros(shape=(self.observation_dim))\n",
    "        # Начальные значения параметров\n",
    "        self.maxNumberOfIterations = 1000\n",
    "        self.theta = 1e-6\n",
    "        self.gamma = 0.99\n",
    "\n",
    "    def print_policy(self):\n",
    "        '''\n",
    "        Вывод матриц стратегии\n",
    "        '''\n",
    "        print('Стратегия:')\n",
    "        pprint(self.policy_probs)\n",
    "\n",
    "    def policy_evaluation(self):\n",
    "        '''\n",
    "        Оценивание стратегии \n",
    "        '''\n",
    "        # Предыдущее значение функции ценности\n",
    "        valueFunctionVector = self.state_values\n",
    "        for iterations in range(self.maxNumberOfIterations):\n",
    "            # Новое значение функции ценности\n",
    "            valueFunctionVectorNextIteration = np.zeros(shape=(self.observation_dim))\n",
    "            # Цикл по состояниям\n",
    "            for state in range(self.observation_dim):\n",
    "                # Вероятности действий\n",
    "                action_probabilities = self.policy_probs[state]\n",
    "                # Цикл по действиям\n",
    "                outerSum = 0\n",
    "                for action, prob in enumerate(action_probabilities):\n",
    "                    innerSum = 0\n",
    "                    # Цикл по вероятностям действий\n",
    "                    for probability, next_state, reward, isTerminalState in self.env.P[state][action]:\n",
    "                        innerSum = innerSum + probability * (reward + self.gamma * self.state_values[next_state])\n",
    "                    outerSum = outerSum + self.policy_probs[state][action] * innerSum\n",
    "                valueFunctionVectorNextIteration[state] = outerSum\n",
    "            if (np.max(np.abs(valueFunctionVectorNextIteration - valueFunctionVector)) < self.theta):\n",
    "                # Проверка сходимости алгоритма\n",
    "                valueFunctionVector = valueFunctionVectorNextIteration\n",
    "                break\n",
    "            valueFunctionVector = valueFunctionVectorNextIteration\n",
    "        return valueFunctionVector\n",
    "\n",
    "    def policy_improvement(self):\n",
    "        '''\n",
    "        Улучшение стратегии \n",
    "        '''\n",
    "        qvaluesMatrix = np.zeros((self.observation_dim, len(self.actions_variants)))\n",
    "        improvedPolicy = np.zeros((self.observation_dim, len(self.actions_variants)))\n",
    "        # Цикл по состояниям\n",
    "        for state in range(self.observation_dim):\n",
    "            for action in range(len(self.actions_variants)):\n",
    "                for probability, next_state, reward, isTerminalState in self.env.P[state][action]:\n",
    "                    qvaluesMatrix[state, action] = qvaluesMatrix[state, action] + probability * (\n",
    "                                reward + self.gamma * self.state_values[next_state])\n",
    "\n",
    "            # Находим лучшие индексы\n",
    "            bestActionIndex = np.where(qvaluesMatrix[state, :] == np.max(qvaluesMatrix[state, :]))\n",
    "            # Обновление стратегии\n",
    "            improvedPolicy[state, bestActionIndex] = 1 / np.size(bestActionIndex)\n",
    "        return improvedPolicy\n",
    "\n",
    "    def policy_iteration(self, cnt):\n",
    "        '''\n",
    "        Основная реализация алгоритма\n",
    "        '''\n",
    "        policy_stable = False\n",
    "        for i in range(1, cnt + 1):\n",
    "            self.state_values = self.policy_evaluation()\n",
    "            self.policy_probs = self.policy_improvement()\n",
    "        print(f'Алгоритм выполнился за {i} шагов.')"
   ]
  },
  {
   "cell_type": "code",
   "execution_count": 4,
   "metadata": {},
   "outputs": [],
   "source": [
    "def play_agent(agent):\n",
    "    env2 = gym.make('CliffWalking-v0', render_mode='human')\n",
    "    state = env2.reset()[0]\n",
    "    done = False\n",
    "    while not done:\n",
    "        p = agent.policy_probs[state]\n",
    "        if isinstance(p, np.ndarray):\n",
    "            action = np.random.choice(len(agent.actions_variants), p=p)\n",
    "        else:\n",
    "            action = p\n",
    "        next_state, reward, terminated, truncated, _ = env2.step(action)\n",
    "        env2.render()\n",
    "        state = next_state\n",
    "        if terminated or truncated:\n",
    "            done = True"
   ]
  },
  {
   "cell_type": "code",
   "execution_count": 5,
   "metadata": {},
   "outputs": [],
   "source": [
    "def main():\n",
    "    # Создание среды\n",
    "    env = gym.make('CliffWalking-v0')\n",
    "    env.reset()\n",
    "    # Обучение агента\n",
    "    agent = PolicyIterationAgent(env)\n",
    "    agent.print_policy()\n",
    "    agent.policy_iteration(1000)\n",
    "    agent.print_policy()\n",
    "    # Проигрывание сцены для обученного агента\n",
    "    play_agent(agent)"
   ]
  },
  {
   "cell_type": "code",
   "execution_count": 6,
   "metadata": {},
   "outputs": [
    {
     "name": "stdout",
     "output_type": "stream",
     "text": [
      "Стратегия:\n",
      "array([[0.25, 0.25, 0.25, 0.25],\n",
      "       [0.25, 0.25, 0.25, 0.25],\n",
      "       [0.25, 0.25, 0.25, 0.25],\n",
      "       [0.25, 0.25, 0.25, 0.25],\n",
      "       [0.25, 0.25, 0.25, 0.25],\n",
      "       [0.25, 0.25, 0.25, 0.25],\n",
      "       [0.25, 0.25, 0.25, 0.25],\n",
      "       [0.25, 0.25, 0.25, 0.25],\n",
      "       [0.25, 0.25, 0.25, 0.25],\n",
      "       [0.25, 0.25, 0.25, 0.25],\n",
      "       [0.25, 0.25, 0.25, 0.25],\n",
      "       [0.25, 0.25, 0.25, 0.25],\n",
      "       [0.25, 0.25, 0.25, 0.25],\n",
      "       [0.25, 0.25, 0.25, 0.25],\n",
      "       [0.25, 0.25, 0.25, 0.25],\n",
      "       [0.25, 0.25, 0.25, 0.25],\n",
      "       [0.25, 0.25, 0.25, 0.25],\n",
      "       [0.25, 0.25, 0.25, 0.25],\n",
      "       [0.25, 0.25, 0.25, 0.25],\n",
      "       [0.25, 0.25, 0.25, 0.25],\n",
      "       [0.25, 0.25, 0.25, 0.25],\n",
      "       [0.25, 0.25, 0.25, 0.25],\n",
      "       [0.25, 0.25, 0.25, 0.25],\n",
      "       [0.25, 0.25, 0.25, 0.25],\n",
      "       [0.25, 0.25, 0.25, 0.25],\n",
      "       [0.25, 0.25, 0.25, 0.25],\n",
      "       [0.25, 0.25, 0.25, 0.25],\n",
      "       [0.25, 0.25, 0.25, 0.25],\n",
      "       [0.25, 0.25, 0.25, 0.25],\n",
      "       [0.25, 0.25, 0.25, 0.25],\n",
      "       [0.25, 0.25, 0.25, 0.25],\n",
      "       [0.25, 0.25, 0.25, 0.25],\n",
      "       [0.25, 0.25, 0.25, 0.25],\n",
      "       [0.25, 0.25, 0.25, 0.25],\n",
      "       [0.25, 0.25, 0.25, 0.25],\n",
      "       [0.25, 0.25, 0.25, 0.25],\n",
      "       [0.25, 0.25, 0.25, 0.25],\n",
      "       [0.25, 0.25, 0.25, 0.25],\n",
      "       [0.25, 0.25, 0.25, 0.25],\n",
      "       [0.25, 0.25, 0.25, 0.25],\n",
      "       [0.25, 0.25, 0.25, 0.25],\n",
      "       [0.25, 0.25, 0.25, 0.25],\n",
      "       [0.25, 0.25, 0.25, 0.25],\n",
      "       [0.25, 0.25, 0.25, 0.25],\n",
      "       [0.25, 0.25, 0.25, 0.25],\n",
      "       [0.25, 0.25, 0.25, 0.25],\n",
      "       [0.25, 0.25, 0.25, 0.25],\n",
      "       [0.25, 0.25, 0.25, 0.25]])\n",
      "Алгоритм выполнился за 1000 шагов.\n",
      "Стратегия:\n",
      "array([[0.        , 0.5       , 0.5       , 0.        ],\n",
      "       [0.33333333, 0.33333333, 0.33333333, 0.        ],\n",
      "       [0.        , 0.        , 1.        , 0.        ],\n",
      "       [0.        , 0.        , 1.        , 0.        ],\n",
      "       [0.        , 0.        , 1.        , 0.        ],\n",
      "       [0.        , 0.        , 1.        , 0.        ],\n",
      "       [0.        , 0.        , 1.        , 0.        ],\n",
      "       [0.        , 0.        , 1.        , 0.        ],\n",
      "       [0.        , 0.        , 1.        , 0.        ],\n",
      "       [0.        , 0.        , 1.        , 0.        ],\n",
      "       [0.33333333, 0.        , 0.33333333, 0.33333333],\n",
      "       [0.        , 0.        , 0.5       , 0.5       ],\n",
      "       [0.        , 0.        , 1.        , 0.        ],\n",
      "       [0.        , 0.5       , 0.5       , 0.        ],\n",
      "       [0.        , 0.5       , 0.5       , 0.        ],\n",
      "       [0.        , 0.33333333, 0.33333333, 0.33333333],\n",
      "       [0.        , 0.33333333, 0.33333333, 0.33333333],\n",
      "       [0.        , 0.33333333, 0.33333333, 0.33333333],\n",
      "       [0.        , 0.33333333, 0.33333333, 0.33333333],\n",
      "       [0.        , 0.33333333, 0.33333333, 0.33333333],\n",
      "       [0.        , 0.33333333, 0.33333333, 0.33333333],\n",
      "       [0.        , 0.        , 0.5       , 0.5       ],\n",
      "       [0.        , 0.        , 0.5       , 0.5       ],\n",
      "       [0.        , 0.        , 1.        , 0.        ],\n",
      "       [0.        , 0.33333333, 0.33333333, 0.33333333],\n",
      "       [0.        , 0.5       , 0.        , 0.5       ],\n",
      "       [0.33333333, 0.33333333, 0.        , 0.33333333],\n",
      "       [0.33333333, 0.33333333, 0.        , 0.33333333],\n",
      "       [0.33333333, 0.33333333, 0.        , 0.33333333],\n",
      "       [0.33333333, 0.33333333, 0.        , 0.33333333],\n",
      "       [0.33333333, 0.33333333, 0.        , 0.33333333],\n",
      "       [0.33333333, 0.33333333, 0.        , 0.33333333],\n",
      "       [0.33333333, 0.33333333, 0.        , 0.33333333],\n",
      "       [0.33333333, 0.33333333, 0.        , 0.33333333],\n",
      "       [0.        , 0.5       , 0.        , 0.5       ],\n",
      "       [0.        , 0.33333333, 0.33333333, 0.33333333],\n",
      "       [0.33333333, 0.        , 0.33333333, 0.33333333],\n",
      "       [0.5       , 0.        , 0.        , 0.5       ],\n",
      "       [1.        , 0.        , 0.        , 0.        ],\n",
      "       [1.        , 0.        , 0.        , 0.        ],\n",
      "       [1.        , 0.        , 0.        , 0.        ],\n",
      "       [1.        , 0.        , 0.        , 0.        ],\n",
      "       [1.        , 0.        , 0.        , 0.        ],\n",
      "       [1.        , 0.        , 0.        , 0.        ],\n",
      "       [1.        , 0.        , 0.        , 0.        ],\n",
      "       [1.        , 0.        , 0.        , 0.        ],\n",
      "       [0.5       , 0.5       , 0.        , 0.        ],\n",
      "       [0.33333333, 0.33333333, 0.33333333, 0.        ]])\n"
     ]
    },
    {
     "name": "stderr",
     "output_type": "stream",
     "text": [
      "/Users/evseykirichkov/anaconda3/lib/python3.11/site-packages/gym/utils/passive_env_checker.py:233: DeprecationWarning: `np.bool8` is a deprecated alias for `np.bool_`.  (Deprecated NumPy 1.24)\n",
      "  if not isinstance(terminated, (bool, np.bool8)):\n"
     ]
    }
   ],
   "source": [
    "if __name__ == '__main__':\n",
    "    main()"
   ]
  },
  {
   "cell_type": "code",
   "execution_count": 8,
   "metadata": {},
   "outputs": [
    {
     "data": {
      "image/png": "[encoded data removed]",
      "text/plain": [
       "<IPython.core.display.Image object>"
      ]
     },
     "metadata": {},
     "output_type": "display_data"
    }
   ],
   "source": [
    "image_path = \"data/Screen_CliffWalking.png\"\n",
    "display(Image(filename=image_path))"
   ]
  },
  {
   "cell_type": "markdown",
   "metadata": {},
   "source": [
    "### Итог\n",
    "Итогом работы программы является обученный агент, способный эффективно находить оптимальный путь в среде CliffWalking, минимизируя количество штрафов за падение с обрыва. Обученный агент демонстрирует свою работу, используя найденную стратегию."
   ]
  },
  {
   "cell_type": "code",
   "execution_count": null,
   "metadata": {},
   "outputs": [],
   "source": []
  }
 ],
 "metadata": {
  "kernelspec": {
   "display_name": "Python 3 (ipykernel)",
   "language": "python",
   "name": "python3"
  },
  "language_info": {
   "codemirror_mode": {
    "name": "ipython",
    "version": 3
   },
   "file_extension": ".py",
   "mimetype": "text/x-python",
   "name": "python",
   "nbconvert_exporter": "python",
   "pygments_lexer": "ipython3",
   "version": "3.11.9"
  }
 },
 "nbformat": 4,
 "nbformat_minor": 2
}
